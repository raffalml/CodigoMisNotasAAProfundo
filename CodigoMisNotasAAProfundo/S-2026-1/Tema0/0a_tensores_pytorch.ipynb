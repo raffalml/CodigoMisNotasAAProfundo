{
  "nbformat": 4,
  "nbformat_minor": 0,
  "metadata": {
    "colab": {
      "provenance": [],
      "include_colab_link": true
    },
    "kernelspec": {
      "name": "python3",
      "display_name": "Python 3"
    },
    "language_info": {
      "name": "python"
    },
    "accelerator": "GPU",
    "gpuClass": "standard"
  },
  "cells": [
    {
      "cell_type": "markdown",
      "metadata": {
        "id": "view-in-github",
        "colab_type": "text"
      },
      "source": [
        "<a href=\"https://colab.research.google.com/github/gibranfp/CursoAprendizajeProfundo/blob/2026-1/notebooks/0a_tensores_pytorch.ipynb\" target=\"_parent\"><img src=\"https://colab.research.google.com/assets/colab-badge.svg\" alt=\"Open In Colab\"/></a>"
      ]
    },
    {
      "cell_type": "markdown",
      "metadata": {
        "id": "eEPX039ZbqYg"
      },
      "source": [
        "<img src=\"https://www.researchgate.net/publication/349108714/figure/fig1/AS:988814684217344@1612763200002/Timeline-of-deep-learning-frameworks.png\" alt=\"Historia de los marcos de trabajo de aprendizaje profundo\" width=\"85%\" height=\"30%\"/>\n",
        "\n",
        "Fuente: [https://www.researchgate.net/publication/349108714_DLBench_a_comprehensive_experimental_evaluation_of_deep_learning_frameworks](https://www.researchgate.net/publication/349108714_DLBench_a_comprehensive_experimental_evaluation_of_deep_learning_frameworks).\n",
        "\n",
        "# Tensores\n",
        "[PyTorch](https://pythorch.org/) es una biblioteca y marco de trabajo de código abierto que facilita la programación de redes neuronales profundas, ofreciendo varias funciones, clases y herramientas. En particular:\n",
        "\n",
        "1. Definición de arreglos multidimensionales (clase `Tensor`) y operaciones entre ellos con soporte para GPUs y cómputo distribuido.\n",
        "2. Diferenciación automática.\n",
        "3. Interfaz modular con distintos niveles de abstracción para definir arquitecturas de redes neuronales y entrenarlas.\n",
        "4. Clases y funciones para carga, generación de lotes y preprocesamiento de conjuntos de datos.\n",
        "\n",
        "<img src=\"https://se.ewi.tudelft.nl/desosa2019/chapters/pytorch/images/pytorch/iGWbOXL.png\" alt=\"Arquitectura de PyTorch\" />\n",
        "\n",
        "Fuente: [https://se.ewi.tudelft.nl/desosa2019/chapters/pytorch/](https://se.ewi.tudelft.nl/desosa2019/chapters/pytorch/)"
      ]
    },
    {
      "cell_type": "code",
      "execution_count": 1,
      "metadata": {
        "id": "tPQ9mQ-WYR8Z"
      },
      "outputs": [],
      "source": [
        "import torch as th\n",
        "import numpy as np"
      ]
    },
    {
      "cell_type": "markdown",
      "metadata": {
        "id": "h-Lzt5Uqt6cX"
      },
      "source": [
        "## Creación de tensores\n",
        "El objeto básico de PyTorch es el tensor, un arreglo multidimensional similar al `ndarray` de NumPy.\n",
        "\n",
        "![](https://static.packt-cdn.com/products/9781787125933/graphics/B07030_14_01.jpg)\n",
        "\n",
        "Fuente: [Python Machine Learning - Second Edition](https://subscription.packtpub.com/book/big_data_and_business_intelligence/9781787125933/14/ch14lvl1sec85/tensorflow-ranks-and-tensors)\n",
        "\n",
        "Podemos definir un tensor a partir de valores específicos con la función `tensor()`. Para un escalar (tensor de orden 0) esto sería:"
      ]
    },
    {
      "cell_type": "code",
      "source": [
        "escalar = th.tensor(4.0)\n",
        "escalar, type(escalar)"
      ],
      "metadata": {
        "id": "Pn7rJ7XQ8pp7",
        "colab": {
          "base_uri": "https://localhost:8080/"
        },
        "outputId": "7d05555e-6665-4626-96a5-9082b86aec99"
      },
      "execution_count": 2,
      "outputs": [
        {
          "output_type": "execute_result",
          "data": {
            "text/plain": [
              "(tensor(4.), torch.Tensor)"
            ]
          },
          "metadata": {},
          "execution_count": 2
        }
      ]
    },
    {
      "cell_type": "markdown",
      "metadata": {
        "id": "VcXNEA8nXBpb"
      },
      "source": [
        "Un vector (tensor de orden 1):"
      ]
    },
    {
      "cell_type": "code",
      "execution_count": 3,
      "metadata": {
        "id": "DaUPCRu4wRPp",
        "colab": {
          "base_uri": "https://localhost:8080/"
        },
        "outputId": "b97d506f-24ac-42df-d146-65cbec1b5247"
      },
      "outputs": [
        {
          "output_type": "execute_result",
          "data": {
            "text/plain": [
              "(tensor([2., 3., 4.]), torch.Tensor)"
            ]
          },
          "metadata": {},
          "execution_count": 3
        }
      ],
      "source": [
        "vector = th.tensor([2.0, 3.0 , 4.0])\n",
        "vector, type(vector)"
      ]
    },
    {
      "cell_type": "markdown",
      "metadata": {
        "id": "jGCegByUXWFe"
      },
      "source": [
        "Una matriz (tensor de orden 2):"
      ]
    },
    {
      "cell_type": "code",
      "execution_count": 4,
      "metadata": {
        "id": "svDTVSY1weL3",
        "colab": {
          "base_uri": "https://localhost:8080/"
        },
        "outputId": "8969986a-5278-4ad2-f027-55ae3475dc60"
      },
      "outputs": [
        {
          "output_type": "execute_result",
          "data": {
            "text/plain": [
              "(tensor([[2., 3., 4.],\n",
              "         [5., 6., 7.]]),\n",
              " torch.Tensor)"
            ]
          },
          "metadata": {},
          "execution_count": 4
        }
      ],
      "source": [
        "matriz = th.tensor([[2.0, 3.0, 4.0], [5.0, 6.0, 7.0]])\n",
        "matriz, type(matriz)"
      ]
    },
    {
      "cell_type": "markdown",
      "metadata": {
        "id": "oEQTHXl7wQ6Z"
      },
      "source": [
        "Un tensor de orden 3:"
      ]
    },
    {
      "cell_type": "code",
      "execution_count": 5,
      "metadata": {
        "id": "G44_drzxwsyu",
        "colab": {
          "base_uri": "https://localhost:8080/"
        },
        "outputId": "9930be46-446a-402b-dbf6-07efdc4dddba"
      },
      "outputs": [
        {
          "output_type": "execute_result",
          "data": {
            "text/plain": [
              "(tensor([[[ 2.,  3.,  4.],\n",
              "          [ 5.,  6.,  7.]],\n",
              " \n",
              "         [[ 8.,  9., 10.],\n",
              "          [11., 12., 13.]]]),\n",
              " torch.Tensor)"
            ]
          },
          "metadata": {},
          "execution_count": 5
        }
      ],
      "source": [
        "tensor3 = th.tensor([[[2.0, 3.0, 4.0], [5.0, 6.0, 7.0]], [[8.0, 9.0, 10.0], [11.0, 12.0, 13.0]]])\n",
        "tensor3, type(tensor3)"
      ]
    },
    {
      "cell_type": "markdown",
      "metadata": {
        "id": "eKgbsH51Xjbl"
      },
      "source": [
        "Similar a NumPy, las instancias de `Tensor` tienen varios atributos:"
      ]
    },
    {
      "cell_type": "code",
      "execution_count": 6,
      "metadata": {
        "id": "J80SFOYKxjBi",
        "colab": {
          "base_uri": "https://localhost:8080/"
        },
        "outputId": "e14b494e-af0b-4d95-b756-ceeac1b278c8"
      },
      "outputs": [
        {
          "output_type": "execute_result",
          "data": {
            "text/plain": [
              "(torch.float32, 3, torch.Size([2, 2, 3]), torch.Size([2, 2, 3]))"
            ]
          },
          "metadata": {},
          "execution_count": 6
        }
      ],
      "source": [
        "tensor3.dtype, tensor3.ndim, tensor3.shape, tensor3.size()"
      ]
    },
    {
      "cell_type": "markdown",
      "metadata": {
        "id": "caUwujeUY4fD"
      },
      "source": [
        "PyTorch infiere el tipo de datos del tensor a partir de los valores, pero también es posible especificarlo."
      ]
    },
    {
      "cell_type": "code",
      "execution_count": 7,
      "metadata": {
        "id": "CMlzOH7TORkn",
        "colab": {
          "base_uri": "https://localhost:8080/"
        },
        "outputId": "366f0b40-6eaf-462b-c6da-4ea0f58152c7"
      },
      "outputs": [
        {
          "output_type": "execute_result",
          "data": {
            "text/plain": [
              "(torch.float64, tensor([1., 2., 3.], dtype=torch.float64))"
            ]
          },
          "metadata": {},
          "execution_count": 7
        }
      ],
      "source": [
        "tensor = th.tensor([1, 2, 3], dtype = th.float64)\n",
        "tensor.dtype, tensor"
      ]
    },
    {
      "cell_type": "markdown",
      "metadata": {
        "id": "Vzca1zAjNaCa"
      },
      "source": [
        "Otra forma de crear un tensor es con la función `zeros()`, que recibe como argumento la forma del tensor y regresa un tensor de esa forma con todos los elementos iguales a 0."
      ]
    },
    {
      "cell_type": "code",
      "execution_count": 8,
      "metadata": {
        "id": "tOykh6v-NKyb",
        "colab": {
          "base_uri": "https://localhost:8080/"
        },
        "outputId": "644324f6-2469-47d3-b195-937b5ac00b74"
      },
      "outputs": [
        {
          "output_type": "execute_result",
          "data": {
            "text/plain": [
              "tensor([[0., 0., 0., 0.],\n",
              "        [0., 0., 0., 0.],\n",
              "        [0., 0., 0., 0.]], dtype=torch.float64)"
            ]
          },
          "metadata": {},
          "execution_count": 8
        }
      ],
      "source": [
        "ceros = th.zeros((3, 4), dtype = th.float64)\n",
        "ceros"
      ]
    },
    {
      "cell_type": "markdown",
      "metadata": {
        "id": "rPJgDt-0ZQ63"
      },
      "source": [
        "Una variación de la función anterior es `zeros_like()`, la cual hace los mismo pero toma la forma a partir de tensor que se pasa como argumento."
      ]
    },
    {
      "cell_type": "code",
      "execution_count": 9,
      "metadata": {
        "id": "WfAX6AjMN8pU",
        "colab": {
          "base_uri": "https://localhost:8080/"
        },
        "outputId": "383c840b-bdfa-4713-faa0-ae37038d5bba"
      },
      "outputs": [
        {
          "output_type": "execute_result",
          "data": {
            "text/plain": [
              "tensor([[0., 0., 0., 0.],\n",
              "        [0., 0., 0., 0.],\n",
              "        [0., 0., 0., 0.]], dtype=torch.float64)"
            ]
          },
          "metadata": {},
          "execution_count": 9
        }
      ],
      "source": [
        "ceros_l = th.zeros_like(ceros)\n",
        "ceros_l"
      ]
    },
    {
      "cell_type": "markdown",
      "metadata": {
        "id": "MaGFmGVENbca"
      },
      "source": [
        "La función `ones()` es similar a la función`zeros()` pero en lugar de poner todos los valores a 0 los pone a 1."
      ]
    },
    {
      "cell_type": "code",
      "execution_count": 10,
      "metadata": {
        "id": "oFlvaijvNosR",
        "colab": {
          "base_uri": "https://localhost:8080/"
        },
        "outputId": "4d297144-8476-41cc-b304-2ad2a5fa7e57"
      },
      "outputs": [
        {
          "output_type": "execute_result",
          "data": {
            "text/plain": [
              "tensor([[1., 1., 1., 1.],\n",
              "        [1., 1., 1., 1.],\n",
              "        [1., 1., 1., 1.]])"
            ]
          },
          "metadata": {},
          "execution_count": 10
        }
      ],
      "source": [
        "unos = th.ones((3, 4))\n",
        "unos"
      ]
    },
    {
      "cell_type": "markdown",
      "metadata": {
        "id": "-aIy8MDQNrlC"
      },
      "source": [
        "De forma análoga, `ones_like()` es una variación de esta última función que toma la forma de otro tensor."
      ]
    },
    {
      "cell_type": "code",
      "execution_count": 11,
      "metadata": {
        "id": "DIEwALoUNq_i",
        "colab": {
          "base_uri": "https://localhost:8080/"
        },
        "outputId": "3d4181a3-ba40-404d-aada-fe9b903d9029"
      },
      "outputs": [
        {
          "output_type": "execute_result",
          "data": {
            "text/plain": [
              "tensor([[1., 1., 1., 1.],\n",
              "        [1., 1., 1., 1.],\n",
              "        [1., 1., 1., 1.]])"
            ]
          },
          "metadata": {},
          "execution_count": 11
        }
      ],
      "source": [
        "unos_l = th.ones_like(unos)\n",
        "unos_l"
      ]
    },
    {
      "cell_type": "markdown",
      "metadata": {
        "id": "iTOmRb5TaNjb"
      },
      "source": [
        "PyTorch también permite crear tensores con valores muestreados de varias. Por ej. uniforme en un rango $[0,1)$ usando la función `rand`:"
      ]
    },
    {
      "cell_type": "code",
      "execution_count": 12,
      "metadata": {
        "id": "GTh0qcxONt1s",
        "colab": {
          "base_uri": "https://localhost:8080/"
        },
        "outputId": "625f0d04-704d-440a-a581-10c2b6c2a1ed"
      },
      "outputs": [
        {
          "output_type": "execute_result",
          "data": {
            "text/plain": [
              "tensor([[0.9398, 0.4413, 0.2003, 0.2301],\n",
              "        [0.3915, 0.6604, 0.1474, 0.7093],\n",
              "        [0.3186, 0.7849, 0.6382, 0.6130]])"
            ]
          },
          "metadata": {},
          "execution_count": 12
        }
      ],
      "source": [
        "rnd = th.rand((3, 4))\n",
        "rnd"
      ]
    },
    {
      "cell_type": "markdown",
      "source": [
        "Usando los tensores generados por `rand` (y `rand_like`) es posible generar tensores con valores muestreados de una uniforme en un rango $[a, b)$ de la siguiente manera:"
      ],
      "metadata": {
        "id": "8xZMU1mF8Wpa"
      }
    },
    {
      "cell_type": "code",
      "source": [
        "a = -5\n",
        "b = 3\n",
        "unifab = th.rand((3, 4)) * (b - a) + a\n",
        "unifab"
      ],
      "metadata": {
        "id": "oM05jt669LQ5",
        "colab": {
          "base_uri": "https://localhost:8080/"
        },
        "outputId": "cc8e2a95-0b42-4011-9034-b6cc6c22f68f"
      },
      "execution_count": 13,
      "outputs": [
        {
          "output_type": "execute_result",
          "data": {
            "text/plain": [
              "tensor([[ 1.9082,  1.1394, -3.1635,  2.1847],\n",
              "        [ 0.6637,  0.7308,  1.0902,  1.8762],\n",
              "        [-2.5984, -0.4775,  2.4107, -3.0882]])"
            ]
          },
          "metadata": {},
          "execution_count": 13
        }
      ]
    },
    {
      "cell_type": "markdown",
      "source": [
        "Alternativamente, podemos instanciar una clase `Tensor` pasando el tamaño como argumento al constructor y llamando al método `uniform_`"
      ],
      "metadata": {
        "id": "q-siPcwd7J6q"
      }
    },
    {
      "cell_type": "code",
      "execution_count": 14,
      "metadata": {
        "id": "D4YsYXjpUHVs",
        "colab": {
          "base_uri": "https://localhost:8080/"
        },
        "outputId": "2a1a2a4a-4524-4556-fbd6-cca40d508e29"
      },
      "outputs": [
        {
          "output_type": "execute_result",
          "data": {
            "text/plain": [
              "tensor([[ 2.6461,  1.8230, -3.2710, -0.2986],\n",
              "        [-2.6093, -4.7255, -0.8285, -4.6658],\n",
              "        [ 2.9231, -1.2227, -0.9234, -2.7613]])"
            ]
          },
          "metadata": {},
          "execution_count": 14
        }
      ],
      "source": [
        "th.Tensor(3, 4).uniform_(-5, 3)"
      ]
    },
    {
      "cell_type": "markdown",
      "source": [
        "Para valores enteros muestreados uniformemente tenemos la función `randint` (y `randint_like`)."
      ],
      "metadata": {
        "id": "P79PTNY1LBQw"
      }
    },
    {
      "cell_type": "code",
      "source": [
        "randint = th.randint(low = -3, high = 5, size = (3, 4))\n",
        "randint, th.randint_like(randint, low = -3, high=5)"
      ],
      "metadata": {
        "id": "RoEvSMZuLhiQ",
        "colab": {
          "base_uri": "https://localhost:8080/"
        },
        "outputId": "5ec827cd-ed9b-4771-bd7a-6f72531940c1"
      },
      "execution_count": 15,
      "outputs": [
        {
          "output_type": "execute_result",
          "data": {
            "text/plain": [
              "(tensor([[ 0,  2, -2, -1],\n",
              "         [ 3, -2, -2,  2],\n",
              "         [ 0, -2,  1,  3]]),\n",
              " tensor([[ 4,  2,  2, -2],\n",
              "         [-2,  4,  0,  2],\n",
              "         [ 4, -2,  1,  0]]))"
            ]
          },
          "metadata": {},
          "execution_count": 15
        }
      ]
    },
    {
      "cell_type": "markdown",
      "metadata": {
        "id": "SqAkpbZ6aYsC"
      },
      "source": [
        "De forma similar, la función `randn` genera tensores con valores muestreados de una normal con media 0 y desviación estándar 1."
      ]
    },
    {
      "cell_type": "code",
      "source": [
        "randn = th.randn((3,4))\n",
        "randn"
      ],
      "metadata": {
        "id": "VN7ZTsORCh1Y",
        "colab": {
          "base_uri": "https://localhost:8080/"
        },
        "outputId": "46383c91-2359-4555-d609-8b8a4909eac4"
      },
      "execution_count": 16,
      "outputs": [
        {
          "output_type": "execute_result",
          "data": {
            "text/plain": [
              "tensor([[ 0.9802,  0.1795,  0.7061, -1.9294],\n",
              "        [-0.5715, -0.5061, -0.6036, -0.4219],\n",
              "        [ 0.0654,  0.9324,  0.1490, -0.7669]])"
            ]
          },
          "metadata": {},
          "execution_count": 16
        }
      ]
    },
    {
      "cell_type": "markdown",
      "source": [
        "Con los tensores generados por `randn` podemos generar tensores cuyos valores sean muestreados de una normal con distinta media y desviación estándar de la siguiente manera:"
      ],
      "metadata": {
        "id": "hFD7_q0bCnXA"
      }
    },
    {
      "cell_type": "code",
      "source": [
        "std = 10\n",
        "mu = -5\n",
        "\n",
        "randn2 = th.randn((3, 4)) * std + mu\n",
        "randn2"
      ],
      "metadata": {
        "id": "Hg1T6P2kC5tw",
        "colab": {
          "base_uri": "https://localhost:8080/"
        },
        "outputId": "9e5f465a-c7b5-4d66-dee8-0f16db1e8394"
      },
      "execution_count": 17,
      "outputs": [
        {
          "output_type": "execute_result",
          "data": {
            "text/plain": [
              "tensor([[ -9.3161, -16.4924,   2.4005,  -8.4264],\n",
              "        [-16.9877, -23.8938, -17.1483,  -2.8722],\n",
              "        [ -4.5954,   0.4193,   2.8811,   7.9712]])"
            ]
          },
          "metadata": {},
          "execution_count": 17
        }
      ]
    },
    {
      "cell_type": "markdown",
      "source": [
        "También podemos generar tensores con valores muestreados de una normal con media y desviación estándar arbitraria usando la función `normal`."
      ],
      "metadata": {
        "id": "WAZUO2pwKm4Z"
      }
    },
    {
      "cell_type": "code",
      "execution_count": 18,
      "metadata": {
        "id": "7VTO2s-ROfCF",
        "colab": {
          "base_uri": "https://localhost:8080/"
        },
        "outputId": "544a1fbc-0b77-4de4-8aa1-0432daed5bb5"
      },
      "outputs": [
        {
          "output_type": "execute_result",
          "data": {
            "text/plain": [
              "tensor([[ -9.4871,  -0.9489,  -7.0473, -19.0269],\n",
              "        [-20.8100,  -2.1623, -11.7830,   3.6316],\n",
              "        [-13.1731,   6.4713, -11.0457,  -0.3412]])"
            ]
          },
          "metadata": {},
          "execution_count": 18
        }
      ],
      "source": [
        "norm = th.normal(mean = -5, std = 10, size = (3, 4))\n",
        "norm"
      ]
    },
    {
      "cell_type": "markdown",
      "metadata": {
        "id": "wvZHTKkraetk"
      },
      "source": [
        "Si deseamos generar tensores muestreados de una distribución multinomial podemos usar la función `multinomial`, a la cual deben especificarse las probabilidades de cada clase como un tensor de orden 1 y el número de muestras."
      ]
    },
    {
      "cell_type": "code",
      "execution_count": 19,
      "metadata": {
        "id": "sEpjZ-4WPz6g",
        "colab": {
          "base_uri": "https://localhost:8080/"
        },
        "outputId": "716131c6-6ddf-4138-b6fd-4434354429bc"
      },
      "outputs": [
        {
          "output_type": "execute_result",
          "data": {
            "text/plain": [
              "tensor([1, 2, 2, 0, 2, 1, 2, 2, 1, 0, 1, 2, 2, 2, 2, 2, 2, 2, 2, 2, 1, 2, 2, 2,\n",
              "        2, 2, 2, 2, 2, 0, 0, 2, 1, 2, 0, 2, 2, 0, 1, 2, 0, 2, 2, 0, 1, 0, 2, 2,\n",
              "        0, 2, 2, 0, 2, 2, 2, 2, 0, 2, 1, 2, 2, 2, 1, 1, 1, 1, 2, 0, 2, 2, 1, 2,\n",
              "        2, 2, 1, 1, 2, 2, 0, 2, 1, 2, 2, 2, 2, 1, 1, 1, 2, 2, 1, 2, 2, 2, 2, 2,\n",
              "        1, 2, 2, 2])"
            ]
          },
          "metadata": {},
          "execution_count": 19
        }
      ],
      "source": [
        "multi = th.multinomial(th.tensor([0.1, 0.2, 0.7]), num_samples = 100, replacement=True)\n",
        "multi"
      ]
    },
    {
      "cell_type": "markdown",
      "metadata": {
        "id": "GTJuENPReN-W"
      },
      "source": [
        "El número de clases depende del tamaño del tensor y el argumento `replacemente` define si las muestras son con o sin reemplazo (en este último caso el número de muestras debe ser menor o igual al número de clases).\n",
        "\n",
        "Por otra parte, la función `arange()` genera una secuencia de números (como el `range()` de Python):"
      ]
    },
    {
      "cell_type": "code",
      "execution_count": 20,
      "metadata": {
        "id": "Dyu8MeR0O39J",
        "colab": {
          "base_uri": "https://localhost:8080/"
        },
        "outputId": "0d065dd7-59eb-4ed1-acb8-4314af5119be"
      },
      "outputs": [
        {
          "output_type": "execute_result",
          "data": {
            "text/plain": [
              "tensor([-3.0000, -2.5000, -2.0000, -1.5000, -1.0000, -0.5000,  0.0000,  0.5000,\n",
              "         1.0000,  1.5000,  2.0000,  2.5000,  3.0000,  3.5000,  4.0000,  4.5000])"
            ]
          },
          "metadata": {},
          "execution_count": 20
        }
      ],
      "source": [
        "rango = th.arange(start=-3, end = 5, step = 0.5)\n",
        "rango"
      ]
    },
    {
      "cell_type": "markdown",
      "metadata": {
        "id": "hdK4Xtr9ahpN"
      },
      "source": [
        "De manera similar, la función `linspace()` genera tensores con valores con el mismo espaciados en un intervalo.\n",
        "\n"
      ]
    },
    {
      "cell_type": "code",
      "execution_count": 21,
      "metadata": {
        "id": "mH5VjSodOrTk",
        "colab": {
          "base_uri": "https://localhost:8080/"
        },
        "outputId": "d5ea74c5-252a-4658-a82d-d1e3af4d8dd1"
      },
      "outputs": [
        {
          "output_type": "execute_result",
          "data": {
            "text/plain": [
              "tensor([-3.0000, -2.5789, -2.1579, -1.7368, -1.3158, -0.8947, -0.4737, -0.0526,\n",
              "         0.3684,  0.7895,  1.2105,  1.6316,  2.0526,  2.4737,  2.8947,  3.3158,\n",
              "         3.7368,  4.1579,  4.5789,  5.0000])"
            ]
          },
          "metadata": {},
          "execution_count": 21
        }
      ],
      "source": [
        "ls = th.linspace(start = -3, end = 5, steps = 20)\n",
        "ls"
      ]
    },
    {
      "cell_type": "markdown",
      "metadata": {
        "id": "-o1DfBLZ2Hu2"
      },
      "source": [
        "## Tipos\n",
        "\n",
        "Los elementos de los tensores pueden ser de distintos tipos básicos y precisiones. Por ej. flotantes de 16 bits (`float16`) o enteros sin signo de 8 bits (`uint8`).\n",
        "\n",
        "![](https://media.springernature.com/full/springer-static/image/art%3A10.1038%2Fs41586-020-2649-2/MediaObjects/41586_2020_2649_Fig1_HTML.png)\n",
        "\n",
        "Fuente: [Array programming with NumPy](https://www.nature.com/articles/s41586-020-2649-2).\n"
      ]
    },
    {
      "cell_type": "code",
      "execution_count": 22,
      "metadata": {
        "id": "hZNO_ujB2KQA",
        "colab": {
          "base_uri": "https://localhost:8080/"
        },
        "outputId": "f21c5f42-1171-45f2-e5f0-6c2a0ab5d59b"
      },
      "outputs": [
        {
          "output_type": "execute_result",
          "data": {
            "text/plain": [
              "tensor([[-2.1660,  1.6943,  0.1114, -0.7046],\n",
              "        [-0.6001, -1.0869, -0.0910, -0.0566],\n",
              "        [ 0.7119,  1.5508, -0.8315, -0.8315]], dtype=torch.float16)"
            ]
          },
          "metadata": {},
          "execution_count": 22
        }
      ],
      "source": [
        "ten16 = th.randn((3, 4), dtype = th.float16)\n",
        "ten16"
      ]
    },
    {
      "cell_type": "markdown",
      "metadata": {
        "id": "QqixPcFTfwp6"
      },
      "source": [
        "También se pueden convertir de tipos con el método `type()`:"
      ]
    },
    {
      "cell_type": "code",
      "source": [
        "ten64 = ten16.type(th.float64)\n",
        "ten64, ten16"
      ],
      "metadata": {
        "id": "WJUQaRmYnM1x",
        "colab": {
          "base_uri": "https://localhost:8080/"
        },
        "outputId": "d0c957f8-0d11-4825-d4ce-bce5e98378e0"
      },
      "execution_count": 23,
      "outputs": [
        {
          "output_type": "execute_result",
          "data": {
            "text/plain": [
              "(tensor([[-2.1660,  1.6943,  0.1114, -0.7046],\n",
              "         [-0.6001, -1.0869, -0.0910, -0.0566],\n",
              "         [ 0.7119,  1.5508, -0.8315, -0.8315]], dtype=torch.float64),\n",
              " tensor([[-2.1660,  1.6943,  0.1114, -0.7046],\n",
              "         [-0.6001, -1.0869, -0.0910, -0.0566],\n",
              "         [ 0.7119,  1.5508, -0.8315, -0.8315]], dtype=torch.float16))"
            ]
          },
          "metadata": {},
          "execution_count": 23
        }
      ]
    },
    {
      "cell_type": "markdown",
      "metadata": {
        "id": "1Y1_GJO5x4je"
      },
      "source": [
        "## Índices\n",
        "Los índices de los tensores siguen reglas similares a los arreglos de NumPy y las listas de Python."
      ]
    },
    {
      "cell_type": "code",
      "source": [
        "randint"
      ],
      "metadata": {
        "colab": {
          "base_uri": "https://localhost:8080/"
        },
        "id": "N0lzH77oYjIB",
        "outputId": "26c605c7-5b0c-4c3b-a7a4-b83ee8a14f01"
      },
      "execution_count": 24,
      "outputs": [
        {
          "output_type": "execute_result",
          "data": {
            "text/plain": [
              "tensor([[ 0,  2, -2, -1],\n",
              "        [ 3, -2, -2,  2],\n",
              "        [ 0, -2,  1,  3]])"
            ]
          },
          "metadata": {},
          "execution_count": 24
        }
      ]
    },
    {
      "cell_type": "code",
      "execution_count": 25,
      "metadata": {
        "id": "sF_J6T9wx7n_",
        "colab": {
          "base_uri": "https://localhost:8080/"
        },
        "outputId": "cabbaf0e-eaa5-4414-9796-2575650224e5"
      },
      "outputs": [
        {
          "output_type": "execute_result",
          "data": {
            "text/plain": [
              "tensor([-2, -2])"
            ]
          },
          "metadata": {},
          "execution_count": 25
        }
      ],
      "source": [
        "randint[1:, 1]"
      ]
    },
    {
      "cell_type": "markdown",
      "metadata": {
        "id": "lIo3Mljii7-X"
      },
      "source": [
        "También se pueden realizar _slices_:"
      ]
    },
    {
      "cell_type": "code",
      "execution_count": 26,
      "metadata": {
        "id": "OViKduOayDEr",
        "colab": {
          "base_uri": "https://localhost:8080/"
        },
        "outputId": "6b1abb0d-1634-47ad-9d37-1658e0d06bae"
      },
      "outputs": [
        {
          "output_type": "execute_result",
          "data": {
            "text/plain": [
              "tensor([ 3, -2])"
            ]
          },
          "metadata": {},
          "execution_count": 26
        }
      ],
      "source": [
        "randint[1, ::2]"
      ]
    },
    {
      "cell_type": "markdown",
      "source": [
        "A diferencia de los arreglos de NumPy, en las instancias de `Tensor` no es posible que el paso de los índices sea negativo."
      ],
      "metadata": {
        "id": "LeRdZJ-tSQai"
      }
    },
    {
      "cell_type": "code",
      "source": [
        "# randint[1][::-1]"
      ],
      "metadata": {
        "id": "R1Hn88b5SgGv"
      },
      "execution_count": 27,
      "outputs": []
    },
    {
      "cell_type": "markdown",
      "metadata": {
        "id": "3dN_Fn8rnUb-"
      },
      "source": [
        "Ademas, podemos iterar sobre los elementos de un tensor:"
      ]
    },
    {
      "cell_type": "code",
      "execution_count": 28,
      "metadata": {
        "id": "bVkmSrO-0esx",
        "colab": {
          "base_uri": "https://localhost:8080/"
        },
        "outputId": "e73d1983-1b45-4ba3-aa0e-a349cd31aefe"
      },
      "outputs": [
        {
          "output_type": "stream",
          "name": "stdout",
          "text": [
            "tensor([ 0,  2, -2, -1])\n",
            "tensor([ 3, -2, -2,  2])\n",
            "tensor([ 0, -2,  1,  3])\n",
            "tensor(0)\n",
            "tensor(2)\n",
            "tensor(-2)\n",
            "tensor(-1)\n",
            "tensor(3)\n",
            "tensor(-2)\n",
            "tensor(-2)\n",
            "tensor(2)\n",
            "tensor(0)\n",
            "tensor(-2)\n",
            "tensor(1)\n",
            "tensor(3)\n"
          ]
        }
      ],
      "source": [
        "for x in randint:\n",
        "  print(x)\n",
        "\n",
        "for x in randint:\n",
        "  for e in x:\n",
        "    print(e)"
      ]
    },
    {
      "cell_type": "markdown",
      "metadata": {
        "id": "9Oq47vJ8W_PD"
      },
      "source": [
        "## Formas\n",
        "La forma de los tensores pueden cambiar, siempre y cuando se mantenga el mismo número de elementos totales:\n",
        "\n",
        "![](https://www.tensorflow.org/guide/images/tensor/reshape-before.png)\n",
        "![](https://www.tensorflow.org/guide/images/tensor/reshape-good1.png)\n",
        "![](https://www.tensorflow.org/guide/images/tensor/reshape-good2.png)\n",
        "\n",
        "Fuente: Tutorial [_Introduction to Tensors_](https://www.tensorflow.org/guide/tensor) de Tensorflow"
      ]
    },
    {
      "cell_type": "code",
      "execution_count": 29,
      "metadata": {
        "id": "UxeWDifW1wKL",
        "colab": {
          "base_uri": "https://localhost:8080/"
        },
        "outputId": "829bfb2f-3309-4fba-8a84-33b1e5d6bd31"
      },
      "outputs": [
        {
          "output_type": "execute_result",
          "data": {
            "text/plain": [
              "tensor([ 0,  1,  2,  3,  4,  5,  6,  7,  8,  9, 10, 11, 12, 13, 14, 15, 16, 17,\n",
              "        18, 19, 20, 21, 22, 23, 24, 25, 26, 27, 28, 29])"
            ]
          },
          "metadata": {},
          "execution_count": 29
        }
      ],
      "source": [
        "x_orig = th.arange(30)\n",
        "x_orig"
      ]
    },
    {
      "cell_type": "markdown",
      "metadata": {
        "id": "z2k4OOvmoc3z"
      },
      "source": [
        "Nota que es necesario asegurarse de que, al cambiar la forma, el número total de elementos sea el mismo. Por ej. si tenemos 30 elementos, solo podemos cambiar a formas en las que el producto de todas las dimensiones sea igual a 30 ($5 \\times 6$, $6 \\times 5$, $3 \\times 10$, $10 \\times 3$, $1 \\times 30$, $30 \\times 1$, $1 \\times 1 \\times 30$, $5 \\times 1 \\times 6$, etc.).\n",
        "\n",
        "Para cambiar la forma de este vector usamos la función (o el método) `reshape()`."
      ]
    },
    {
      "cell_type": "code",
      "execution_count": 30,
      "metadata": {
        "id": "5ZXc9czlo_cF"
      },
      "outputs": [],
      "source": [
        "x_forma2 = th.reshape(x_orig, [6, 5])\n",
        "x_forma3 = th.reshape(x_orig, [3, 10])\n",
        "x_forma4 = th.reshape(x_orig, [2, 3, 5])\n",
        "x_forma5 = th.reshape(x_orig, [5, 3, 2])"
      ]
    },
    {
      "cell_type": "markdown",
      "metadata": {
        "id": "iOdNCtT-pD9I"
      },
      "source": [
        "Examinemos sus formas:"
      ]
    },
    {
      "cell_type": "code",
      "execution_count": 31,
      "metadata": {
        "id": "Tc9e27sb1z23",
        "colab": {
          "base_uri": "https://localhost:8080/"
        },
        "outputId": "60b461b9-0993-43a2-897d-5e74d8d763dc"
      },
      "outputs": [
        {
          "output_type": "execute_result",
          "data": {
            "text/plain": [
              "(torch.Size([6, 5]),\n",
              " torch.Size([3, 10]),\n",
              " torch.Size([2, 3, 5]),\n",
              " torch.Size([5, 3, 2]))"
            ]
          },
          "metadata": {},
          "execution_count": 31
        }
      ],
      "source": [
        "x_forma2.shape, x_forma3.shape, x_forma4.shape, x_forma5.shape"
      ]
    },
    {
      "cell_type": "code",
      "source": [
        "x_forma2, x_orig"
      ],
      "metadata": {
        "id": "etpugVXg7quB",
        "colab": {
          "base_uri": "https://localhost:8080/"
        },
        "outputId": "2a25317f-49e2-4ada-ff94-f2e23a94bdec"
      },
      "execution_count": 32,
      "outputs": [
        {
          "output_type": "execute_result",
          "data": {
            "text/plain": [
              "(tensor([[ 0,  1,  2,  3,  4],\n",
              "         [ 5,  6,  7,  8,  9],\n",
              "         [10, 11, 12, 13, 14],\n",
              "         [15, 16, 17, 18, 19],\n",
              "         [20, 21, 22, 23, 24],\n",
              "         [25, 26, 27, 28, 29]]),\n",
              " tensor([ 0,  1,  2,  3,  4,  5,  6,  7,  8,  9, 10, 11, 12, 13, 14, 15, 16, 17,\n",
              "         18, 19, 20, 21, 22, 23, 24, 25, 26, 27, 28, 29]))"
            ]
          },
          "metadata": {},
          "execution_count": 32
        }
      ]
    },
    {
      "cell_type": "code",
      "source": [
        "x_forma2[0, 1] = 0\n",
        "x_forma2, x_orig"
      ],
      "metadata": {
        "colab": {
          "base_uri": "https://localhost:8080/"
        },
        "id": "PVuF0k6Wp9IE",
        "outputId": "6f5bead6-302c-4a94-b049-3767faeca60b"
      },
      "execution_count": 33,
      "outputs": [
        {
          "output_type": "execute_result",
          "data": {
            "text/plain": [
              "(tensor([[ 0,  0,  2,  3,  4],\n",
              "         [ 5,  6,  7,  8,  9],\n",
              "         [10, 11, 12, 13, 14],\n",
              "         [15, 16, 17, 18, 19],\n",
              "         [20, 21, 22, 23, 24],\n",
              "         [25, 26, 27, 28, 29]]),\n",
              " tensor([ 0,  0,  2,  3,  4,  5,  6,  7,  8,  9, 10, 11, 12, 13, 14, 15, 16, 17,\n",
              "         18, 19, 20, 21, 22, 23, 24, 25, 26, 27, 28, 29]))"
            ]
          },
          "metadata": {},
          "execution_count": 33
        }
      ]
    },
    {
      "cell_type": "markdown",
      "metadata": {
        "id": "K-jHZhFfVwBR"
      },
      "source": [
        "Si solo requerimos agregar una dimensión, además de la función `reshape` podemos usar `unsqueeze`, la cual toma como argumento un tensor y un eje y regresa un tensor con los mismos elementos pero con una dimensión agregada."
      ]
    },
    {
      "cell_type": "code",
      "execution_count": 34,
      "metadata": {
        "id": "19l2v-l6V3B6",
        "colab": {
          "base_uri": "https://localhost:8080/"
        },
        "outputId": "60b9d531-f5fc-4f9b-d1ec-f03b7dbc2f2d"
      },
      "outputs": [
        {
          "output_type": "execute_result",
          "data": {
            "text/plain": [
              "torch.Size([3, 1, 10])"
            ]
          },
          "metadata": {},
          "execution_count": 34
        }
      ],
      "source": [
        "x_forma_usq = th.unsqueeze(x_forma3, dim = 1)\n",
        "x_forma_usq.shape"
      ]
    },
    {
      "cell_type": "markdown",
      "metadata": {
        "id": "ItaRsiVsaM0p"
      },
      "source": [
        "Para quitar dimensiones de tamaño 1 se puede utilizar la función `squeeze`."
      ]
    },
    {
      "cell_type": "code",
      "execution_count": 35,
      "metadata": {
        "id": "fdGVTF0SbK8y",
        "colab": {
          "base_uri": "https://localhost:8080/"
        },
        "outputId": "dd7c7a3f-d851-45e2-c25b-f222ac75f445"
      },
      "outputs": [
        {
          "output_type": "execute_result",
          "data": {
            "text/plain": [
              "torch.Size([3, 10])"
            ]
          },
          "metadata": {},
          "execution_count": 35
        }
      ],
      "source": [
        "th.squeeze(x_forma_usq).shape"
      ]
    },
    {
      "cell_type": "markdown",
      "source": [
        "Cuando redimensionamos con `reshape` o asignamos un tensor a otro, no se está creando una copia del tensor original en memoria, sino que solo se modifica la cabecera."
      ],
      "metadata": {
        "id": "U5enEpZS1-Ip"
      }
    },
    {
      "cell_type": "code",
      "source": [
        "x_orig2 = x_orig\n",
        "x_orig2[5] = 1000\n",
        "x_orig, x_orig2, x_forma2, x_forma3"
      ],
      "metadata": {
        "id": "MeKsuMyd2cWv",
        "colab": {
          "base_uri": "https://localhost:8080/"
        },
        "outputId": "0089bdeb-269e-4641-ddac-7a18b66571ec"
      },
      "execution_count": 36,
      "outputs": [
        {
          "output_type": "execute_result",
          "data": {
            "text/plain": [
              "(tensor([   0,    0,    2,    3,    4, 1000,    6,    7,    8,    9,   10,   11,\n",
              "           12,   13,   14,   15,   16,   17,   18,   19,   20,   21,   22,   23,\n",
              "           24,   25,   26,   27,   28,   29]),\n",
              " tensor([   0,    0,    2,    3,    4, 1000,    6,    7,    8,    9,   10,   11,\n",
              "           12,   13,   14,   15,   16,   17,   18,   19,   20,   21,   22,   23,\n",
              "           24,   25,   26,   27,   28,   29]),\n",
              " tensor([[   0,    0,    2,    3,    4],\n",
              "         [1000,    6,    7,    8,    9],\n",
              "         [  10,   11,   12,   13,   14],\n",
              "         [  15,   16,   17,   18,   19],\n",
              "         [  20,   21,   22,   23,   24],\n",
              "         [  25,   26,   27,   28,   29]]),\n",
              " tensor([[   0,    0,    2,    3,    4, 1000,    6,    7,    8,    9],\n",
              "         [  10,   11,   12,   13,   14,   15,   16,   17,   18,   19],\n",
              "         [  20,   21,   22,   23,   24,   25,   26,   27,   28,   29]]))"
            ]
          },
          "metadata": {},
          "execution_count": 36
        }
      ]
    },
    {
      "cell_type": "markdown",
      "source": [
        "Para crear una copia de los datos es necesario usar el método `clone()` o `deepcopy()`."
      ],
      "metadata": {
        "id": "7e9JvTOS2noL"
      }
    },
    {
      "cell_type": "code",
      "source": [
        "x_orig_clone = x_orig.clone()\n",
        "x_orig[3] = -1\n",
        "x_orig, x_orig_clone"
      ],
      "metadata": {
        "id": "1lv5GZee21R2",
        "colab": {
          "base_uri": "https://localhost:8080/"
        },
        "outputId": "b9998333-6001-4348-9eca-ae60f2ae9a32"
      },
      "execution_count": 37,
      "outputs": [
        {
          "output_type": "execute_result",
          "data": {
            "text/plain": [
              "(tensor([   0,    0,    2,   -1,    4, 1000,    6,    7,    8,    9,   10,   11,\n",
              "           12,   13,   14,   15,   16,   17,   18,   19,   20,   21,   22,   23,\n",
              "           24,   25,   26,   27,   28,   29]),\n",
              " tensor([   0,    0,    2,    3,    4, 1000,    6,    7,    8,    9,   10,   11,\n",
              "           12,   13,   14,   15,   16,   17,   18,   19,   20,   21,   22,   23,\n",
              "           24,   25,   26,   27,   28,   29]))"
            ]
          },
          "metadata": {},
          "execution_count": 37
        }
      ]
    },
    {
      "cell_type": "markdown",
      "metadata": {
        "id": "41-gYI5fsrut"
      },
      "source": [
        "## PyTorch y NumPy\n",
        "Los tensores de PyTorch se pueden convertir a arreglos de NumPy y viceversa."
      ]
    },
    {
      "cell_type": "code",
      "execution_count": 38,
      "metadata": {
        "id": "ZBB3sXKVs_av"
      },
      "outputs": [],
      "source": [
        "nparr = np.ones((2, 5))"
      ]
    },
    {
      "cell_type": "markdown",
      "metadata": {
        "id": "FXxvxGngtxJP"
      },
      "source": [
        "De arreglo de NumPy a Tensorflow:"
      ]
    },
    {
      "cell_type": "code",
      "source": [
        "tharr = th.tensor(nparr)"
      ],
      "metadata": {
        "id": "SzgsXo1NKcEz"
      },
      "execution_count": 39,
      "outputs": []
    },
    {
      "cell_type": "markdown",
      "metadata": {
        "id": "PPO8vkoAt5-E"
      },
      "source": [
        "De tensor a arreglo de NumPy con método `numpy` de cualquier instancia de `Tensor`."
      ]
    },
    {
      "cell_type": "code",
      "execution_count": 40,
      "metadata": {
        "id": "71-FwUH7t9gu",
        "colab": {
          "base_uri": "https://localhost:8080/"
        },
        "outputId": "49b6a9ea-508c-4ffc-ae2e-a21b0fc4f042"
      },
      "outputs": [
        {
          "output_type": "execute_result",
          "data": {
            "text/plain": [
              "array([[1., 1., 1., 1., 1.],\n",
              "       [1., 1., 1., 1., 1.]])"
            ]
          },
          "metadata": {},
          "execution_count": 40
        }
      ],
      "source": [
        "tharr.numpy()"
      ]
    },
    {
      "cell_type": "markdown",
      "metadata": {
        "id": "CKGwAZQku52E"
      },
      "source": [
        "## Operaciones básicas\n",
        "PyTorch cuenta con operadores y funciones básicas para los tensores, similares a las de NumPy, entre ellas operadores elemento a elemento, multiplicación de tensores, etc.\n",
        "\n",
        "### Elemento a elemento\n",
        "Estas operaciones se realizan entre dos tensores que tienen la misma forma. El resultado es un tensor con la misma forma que la de los operandos, cuyos elementos se obtienen al aplicar la operación especificada entre cada elemento de un tensor y el correspondiente elemento del otro tensor. Estas operaciones pueden ser suma, resta, división, multiplicación, potenciación, etc."
      ]
    },
    {
      "cell_type": "code",
      "execution_count": 41,
      "metadata": {
        "id": "9XR6DMXX2L00",
        "colab": {
          "base_uri": "https://localhost:8080/"
        },
        "outputId": "2d1686c5-e59e-47a5-baf3-27a6182a975c"
      },
      "outputs": [
        {
          "output_type": "execute_result",
          "data": {
            "text/plain": [
              "(tensor([1., 2., 3.]), tensor([3., 4., 5.]))"
            ]
          },
          "metadata": {},
          "execution_count": 41
        }
      ],
      "source": [
        "x = th.tensor([1., 2., 3.])\n",
        "y = th.tensor([3., 4., 5.])\n",
        "\n",
        "x, y"
      ]
    },
    {
      "cell_type": "code",
      "source": [
        "10 * x, x + y, x - y, x * y, x / y, x**y, x**2"
      ],
      "metadata": {
        "colab": {
          "base_uri": "https://localhost:8080/"
        },
        "id": "fC0RAqEMtd-8",
        "outputId": "948b42c2-9427-4848-cd3f-b4e38a92590f"
      },
      "execution_count": 42,
      "outputs": [
        {
          "output_type": "execute_result",
          "data": {
            "text/plain": [
              "(tensor([10., 20., 30.]),\n",
              " tensor([4., 6., 8.]),\n",
              " tensor([-2., -2., -2.]),\n",
              " tensor([ 3.,  8., 15.]),\n",
              " tensor([0.3333, 0.5000, 0.6000]),\n",
              " tensor([  1.,  16., 243.]),\n",
              " tensor([1., 4., 9.]))"
            ]
          },
          "metadata": {},
          "execution_count": 42
        }
      ]
    },
    {
      "cell_type": "code",
      "source": [
        "a = th.reshape(th.arange(4), [4, 1])\n",
        "b = th.arange(2).reshape(1, 2)\n",
        "\n",
        "a, b, a * b"
      ],
      "metadata": {
        "colab": {
          "base_uri": "https://localhost:8080/"
        },
        "id": "GA-ciXHluazz",
        "outputId": "bcfd695e-a70f-4706-ce0a-4a40ce60f17c"
      },
      "execution_count": 43,
      "outputs": [
        {
          "output_type": "execute_result",
          "data": {
            "text/plain": [
              "(tensor([[0],\n",
              "         [1],\n",
              "         [2],\n",
              "         [3]]),\n",
              " tensor([[0, 1]]),\n",
              " tensor([[0, 0],\n",
              "         [0, 1],\n",
              "         [0, 2],\n",
              "         [0, 3]]))"
            ]
          },
          "metadata": {},
          "execution_count": 43
        }
      ]
    },
    {
      "cell_type": "markdown",
      "metadata": {
        "id": "1AUEVAvw9KOB"
      },
      "source": [
        "### Transpuesta, producto y concatenación\n",
        "Es posible obtener la transpuesta de una matriz usando la función `transpose` (como argumentos se ponen los índices de los ejes en el orden deseado) o el método `.T` de cualquier instancia de `Tensor`. Además, podemos calcular el producto de dos vectores, dos matrices o un vector y una matriz."
      ]
    },
    {
      "cell_type": "code",
      "source": [
        "x = x.reshape(1, 3)\n",
        "th.transpose(x, 1, 0), x.T"
      ],
      "metadata": {
        "id": "nrdoOmMtL1Ul",
        "colab": {
          "base_uri": "https://localhost:8080/"
        },
        "outputId": "ed912f0a-26c3-48be-bf1e-4df5527c8ffd"
      },
      "execution_count": 44,
      "outputs": [
        {
          "output_type": "execute_result",
          "data": {
            "text/plain": [
              "(tensor([[1.],\n",
              "         [2.],\n",
              "         [3.]]),\n",
              " tensor([[1.],\n",
              "         [2.],\n",
              "         [3.]]))"
            ]
          },
          "metadata": {},
          "execution_count": 44
        }
      ]
    },
    {
      "cell_type": "code",
      "execution_count": 45,
      "metadata": {
        "id": "Y62XHd5kvXJZ",
        "colab": {
          "base_uri": "https://localhost:8080/"
        },
        "outputId": "9d47d5a7-7ea5-4526-a1fb-6e94331c7c77"
      },
      "outputs": [
        {
          "output_type": "execute_result",
          "data": {
            "text/plain": [
              "(torch.Size([3, 4]), torch.Size([2, 3]))"
            ]
          },
          "metadata": {},
          "execution_count": 45
        }
      ],
      "source": [
        "M1 = th.rand((4,3))\n",
        "M2 = th.rand((3, 2))\n",
        "\n",
        "M1.T.shape, M2.T.shape"
      ]
    },
    {
      "cell_type": "code",
      "source": [
        "M1 @ M2, th.matmul(M1, M2), M1 @ x.T"
      ],
      "metadata": {
        "id": "C-mvXKpxRLAV",
        "colab": {
          "base_uri": "https://localhost:8080/"
        },
        "outputId": "e4d1dcf2-e458-4370-b5d4-e3b33a24a983"
      },
      "execution_count": 46,
      "outputs": [
        {
          "output_type": "execute_result",
          "data": {
            "text/plain": [
              "(tensor([[0.6377, 1.1162],\n",
              "         [1.1252, 1.1334],\n",
              "         [0.9953, 1.2731],\n",
              "         [0.6751, 0.8980]]),\n",
              " tensor([[0.6377, 1.1162],\n",
              "         [1.1252, 1.1334],\n",
              "         [0.9953, 1.2731],\n",
              "         [0.6751, 0.8980]]),\n",
              " tensor([[2.5446],\n",
              "         [3.0449],\n",
              "         [3.4726],\n",
              "         [1.8247]]))"
            ]
          },
          "metadata": {},
          "execution_count": 46
        }
      ]
    },
    {
      "cell_type": "markdown",
      "metadata": {
        "id": "hedsYYviv-tX"
      },
      "source": [
        "También podemos concatenar (función `concat`) una lista de tensores (primer argumento) sobre un eje específico (argumento `axis`)."
      ]
    },
    {
      "cell_type": "code",
      "execution_count": 47,
      "metadata": {
        "id": "ibPxuVNcwAbo",
        "colab": {
          "base_uri": "https://localhost:8080/"
        },
        "outputId": "9b31959c-f4bc-4628-9f0e-4728fda3e282"
      },
      "outputs": [
        {
          "output_type": "execute_result",
          "data": {
            "text/plain": [
              "(tensor([[0.2375, 0.9145, 0.1593],\n",
              "         [0.9897, 0.0967, 0.6206],\n",
              "         [0.4891, 0.6718, 0.5466],\n",
              "         [0.6905, 0.3373, 0.1532],\n",
              "         [0.6073, 0.4033, 0.7818],\n",
              "         [0.7244, 0.9410, 0.5244]]),\n",
              " tensor([[0.2375, 0.9897, 0.4891, 0.6905, 0.6073, 0.7244],\n",
              "         [0.9145, 0.0967, 0.6718, 0.3373, 0.4033, 0.9410],\n",
              "         [0.1593, 0.6206, 0.5466, 0.1532, 0.7818, 0.5244]]))"
            ]
          },
          "metadata": {},
          "execution_count": 47
        }
      ],
      "source": [
        "th.concat([M1, M2.T], axis = 0), th.concat([M1.T, M2], axis = 1)"
      ]
    },
    {
      "cell_type": "markdown",
      "metadata": {
        "id": "Ac6pydM0vRR6"
      },
      "source": [
        "De forma similar, es posible apilar tensores sobre un eje usando la función `stack` (el tensor resultando es un orden mayor al de los tensores de argumento, los cuales tienen la misma forma)."
      ]
    },
    {
      "cell_type": "code",
      "execution_count": 48,
      "metadata": {
        "id": "NjghxJ4LvX0o",
        "colab": {
          "base_uri": "https://localhost:8080/"
        },
        "outputId": "935da1d3-83c3-4e56-8ae0-8bc2d609a714"
      },
      "outputs": [
        {
          "output_type": "execute_result",
          "data": {
            "text/plain": [
              "(torch.Size([4, 2, 3]), torch.Size([2, 4, 3]), torch.Size([2, 3, 4]))"
            ]
          },
          "metadata": {},
          "execution_count": 48
        }
      ],
      "source": [
        "M1 = th.rand((2,3))\n",
        "M2 = th.rand((2,3))\n",
        "M3 = th.rand((2,3))\n",
        "M4 = th.rand((2,3))\n",
        "th.stack([M1, M2, M3, M4], axis = 0).shape, th.stack([M1, M2, M3, M4], axis = 1).shape, th.stack([M1, M2, M3, M4], axis = 2).shape"
      ]
    },
    {
      "cell_type": "markdown",
      "metadata": {
        "id": "dojbrYEZwqyF"
      },
      "source": [
        "## Reducción\n",
        "También se puede reducir un eje de un tensor con distintas funciones (y métodos equivalentes), tales como suma (`sum`), producto (`prod`) y promedio (`mean`):"
      ]
    },
    {
      "cell_type": "code",
      "execution_count": 49,
      "metadata": {
        "id": "5a6YRfdSxWIe",
        "colab": {
          "base_uri": "https://localhost:8080/"
        },
        "outputId": "f038888f-1546-4fc6-932c-1ddb7c6b694a"
      },
      "outputs": [
        {
          "output_type": "execute_result",
          "data": {
            "text/plain": [
              "(tensor([[0.9784, 0.2644, 0.5512, 0.5452, 0.9617, 0.4336, 0.8368, 0.1646, 0.4565,\n",
              "          0.6410],\n",
              "         [0.7228, 0.5353, 0.0247, 0.6202, 0.3383, 0.9066, 0.1115, 0.9543, 0.0234,\n",
              "          0.5380],\n",
              "         [0.3215, 0.4757, 0.3661, 0.9893, 0.7417, 0.1102, 0.5952, 0.9234, 0.5171,\n",
              "          0.9197]]),\n",
              " tensor(0.9893),\n",
              " tensor(0.0234),\n",
              " tensor(23),\n",
              " tensor(18),\n",
              " tensor(16.5685),\n",
              " tensor(3.7654e-12),\n",
              " tensor(0.5523))"
            ]
          },
          "metadata": {},
          "execution_count": 49
        }
      ],
      "source": [
        "x_red = th.rand([3, 10])\n",
        "\n",
        "x_red, th.max(x_red), x_red.min(), x_red.argmax(), x_red.argmin(), x_red.sum(), x_red.prod(), x_red.mean()"
      ]
    },
    {
      "cell_type": "markdown",
      "source": [
        "Es posible especificar un eje donde se desea realizar la reducción, para las funciones/métodos `min` y `max` devuelven un par de tensores: el primero es el de valores mínimos y el segundo es el de los índices de estos valores."
      ],
      "metadata": {
        "id": "0HfcxElqaH5g"
      }
    },
    {
      "cell_type": "code",
      "execution_count": 50,
      "metadata": {
        "id": "xyqyQ1MXypWl",
        "colab": {
          "base_uri": "https://localhost:8080/"
        },
        "outputId": "1d0c2255-10c6-44a8-e7a5-73ef8ff33a80"
      },
      "outputs": [
        {
          "output_type": "execute_result",
          "data": {
            "text/plain": [
              "torch.return_types.max(\n",
              "values=tensor([0.9784, 0.5353, 0.5512, 0.9893, 0.9617, 0.9066, 0.8368, 0.9543, 0.5171,\n",
              "        0.9197]),\n",
              "indices=tensor([0, 1, 0, 2, 0, 1, 0, 1, 2, 2]))"
            ]
          },
          "metadata": {},
          "execution_count": 50
        }
      ],
      "source": [
        "x_red.max(axis = 0)"
      ]
    },
    {
      "cell_type": "markdown",
      "metadata": {
        "id": "jolCsEBJyutI"
      },
      "source": [
        "Para el eje 1 del mismo tensor:"
      ]
    },
    {
      "cell_type": "code",
      "execution_count": 51,
      "metadata": {
        "id": "MtbI4B7ZywHp",
        "colab": {
          "base_uri": "https://localhost:8080/"
        },
        "outputId": "c0e69094-309b-4a8f-ee27-f97a0a066878"
      },
      "outputs": [
        {
          "output_type": "execute_result",
          "data": {
            "text/plain": [
              "tensor([0.5833, 0.4775, 0.5960])"
            ]
          },
          "metadata": {},
          "execution_count": 51
        }
      ],
      "source": [
        "x_red.mean(axis = 1)"
      ]
    },
    {
      "cell_type": "markdown",
      "metadata": {
        "id": "4P0gxS73slNY"
      },
      "source": [
        "Por otro lado, tenemos la función (y el método) `sort` que ordena un tensor. Al igual que `min` y `max`, cuando se especifica un eje `sort` regresa tanto el tensor de valores como el tensor de índices. Si solo requerimos los índices, podemos usar la función `argsort`."
      ]
    },
    {
      "cell_type": "code",
      "execution_count": 52,
      "metadata": {
        "id": "1fjuokqst6br",
        "colab": {
          "base_uri": "https://localhost:8080/"
        },
        "outputId": "488ef27a-34d3-46f9-89c5-2b77d2196fbd"
      },
      "outputs": [
        {
          "output_type": "execute_result",
          "data": {
            "text/plain": [
              "(torch.return_types.sort(\n",
              " values=tensor([[ 1, -1, -4, -8],\n",
              "         [ 7,  3,  2,  1],\n",
              "         [ 5,  0, -2, -3]]),\n",
              " indices=tensor([[1, 0, 3, 2],\n",
              "         [2, 1, 3, 0],\n",
              "         [2, 3, 0, 1]])),\n",
              " torch.return_types.sort(\n",
              " values=tensor([[-8, -4, -1,  1],\n",
              "         [ 1,  2,  3,  7],\n",
              "         [-3, -2,  0,  5]]),\n",
              " indices=tensor([[2, 3, 0, 1],\n",
              "         [0, 3, 1, 2],\n",
              "         [1, 0, 3, 2]])),\n",
              " torch.return_types.sort(\n",
              " values=tensor([[-2, -3, -8, -4],\n",
              "         [-1,  1,  5,  0],\n",
              "         [ 1,  3,  7,  2]]),\n",
              " indices=tensor([[2, 2, 0, 0],\n",
              "         [0, 0, 2, 2],\n",
              "         [1, 1, 1, 1]])))"
            ]
          },
          "metadata": {},
          "execution_count": 52
        }
      ],
      "source": [
        "xsort = th.randint(low = -10, high = 10, size = (3, 4))\n",
        "th.sort(xsort, descending = True), th.sort(xsort, descending = False), th.sort(xsort, descending = False, axis = 0)"
      ]
    },
    {
      "cell_type": "markdown",
      "metadata": {
        "id": "ndKjVRsqF84d"
      },
      "source": [
        "## GPUs\n",
        "En muchos casos, el uso de GPUs reduce significativamente el tiempo de entrenamiento de los modelos basados en redes neuronales profundas. Por lo mismo, los marcos de trabajo como PyTorch permiten crear o copiar tensores y ejecutar las operaciones tensoriales en uno o más CPUs/GPUs e incluso en distintas computadoras. Además, ofrecen herramientas para controlar de manera flexible dónde se crea o copia cada tensor y dónde se ejecuta cada operación. Por ello, cada instancia de la clase `Tensor` cuenta con el elemento `.device` que indica el dispositivo en el que se encuentra almacenado. Por defecto, si hay al menos uno disponible, los tensores se crean en el GPU."
      ]
    },
    {
      "cell_type": "code",
      "execution_count": 53,
      "metadata": {
        "id": "ys5WAZQ1F_H8",
        "colab": {
          "base_uri": "https://localhost:8080/"
        },
        "outputId": "7fdb32db-2d23-4a61-c6c9-62d46a96137a"
      },
      "outputs": [
        {
          "output_type": "stream",
          "name": "stdout",
          "text": [
            "Thu Aug 14 17:25:43 2025       \n",
            "+-----------------------------------------------------------------------------------------+\n",
            "| NVIDIA-SMI 550.54.15              Driver Version: 550.54.15      CUDA Version: 12.4     |\n",
            "|-----------------------------------------+------------------------+----------------------+\n",
            "| GPU  Name                 Persistence-M | Bus-Id          Disp.A | Volatile Uncorr. ECC |\n",
            "| Fan  Temp   Perf          Pwr:Usage/Cap |           Memory-Usage | GPU-Util  Compute M. |\n",
            "|                                         |                        |               MIG M. |\n",
            "|=========================================+========================+======================|\n",
            "|   0  Tesla T4                       Off |   00000000:00:04.0 Off |                    0 |\n",
            "| N/A   43C    P8              9W /   70W |       0MiB /  15360MiB |      0%      Default |\n",
            "|                                         |                        |                  N/A |\n",
            "+-----------------------------------------+------------------------+----------------------+\n",
            "                                                                                         \n",
            "+-----------------------------------------------------------------------------------------+\n",
            "| Processes:                                                                              |\n",
            "|  GPU   GI   CI        PID   Type   Process name                              GPU Memory |\n",
            "|        ID   ID                                                               Usage      |\n",
            "|=========================================================================================|\n",
            "|  No running processes found                                                             |\n",
            "+-----------------------------------------------------------------------------------------+\n"
          ]
        }
      ],
      "source": [
        "!nvidia-smi"
      ]
    },
    {
      "cell_type": "code",
      "source": [
        "xcpu = th.rand((100, 100))\n",
        "xcpu.device"
      ],
      "metadata": {
        "id": "0Ss76GCGTZTG",
        "colab": {
          "base_uri": "https://localhost:8080/"
        },
        "outputId": "9fff3696-78f1-4dd9-c251-807402eedea7"
      },
      "execution_count": 54,
      "outputs": [
        {
          "output_type": "execute_result",
          "data": {
            "text/plain": [
              "device(type='cpu')"
            ]
          },
          "metadata": {},
          "execution_count": 54
        }
      ]
    },
    {
      "cell_type": "markdown",
      "metadata": {
        "id": "JW5zZxnGtjPd"
      },
      "source": [
        "Podemos especificar explícitamente dónde queremos crear una instancia de `Tensor` usando el argumento `device` que tienen muchas funciones de PyTorch. Por ej. si queremos crear el tensor en GPU pasamos la cadena `cuda` o `cuda:0`, donde el valor después de los dos puntos en esta última forma especifica el índice del GPU (es distinto de 0 cuando tenemos múltiples GPUs disponibles)."
      ]
    },
    {
      "cell_type": "code",
      "execution_count": 55,
      "metadata": {
        "id": "2fVCcMmBGnRM",
        "colab": {
          "base_uri": "https://localhost:8080/"
        },
        "outputId": "338680ac-ffa2-410f-8d4b-308f73ec84a7"
      },
      "outputs": [
        {
          "output_type": "execute_result",
          "data": {
            "text/plain": [
              "device(type='cuda', index=0)"
            ]
          },
          "metadata": {},
          "execution_count": 55
        }
      ],
      "source": [
        "xgpu = th.rand((100, 100), device = 'cuda:0')\n",
        "xgpu.device"
      ]
    },
    {
      "cell_type": "markdown",
      "metadata": {
        "id": "Cwu1qbBJt71F"
      },
      "source": [
        "Las operaciones que se realicen con estos tensores se correrán en el GPU y los tensores resultantes estarán en este mismo dispositivo."
      ]
    },
    {
      "cell_type": "code",
      "source": [
        "ygpu = th.rand((100, 100), device = 'cuda:0')\n",
        "(xgpu + ygpu).device"
      ],
      "metadata": {
        "id": "znzRRqWb8gn-",
        "colab": {
          "base_uri": "https://localhost:8080/"
        },
        "outputId": "f7562314-2696-4eca-94f6-d89efd223654"
      },
      "execution_count": 56,
      "outputs": [
        {
          "output_type": "execute_result",
          "data": {
            "text/plain": [
              "device(type='cuda', index=0)"
            ]
          },
          "metadata": {},
          "execution_count": 56
        }
      ]
    },
    {
      "cell_type": "markdown",
      "source": [
        "Sin embargo, cuando realizamos una operación con tensores que se encuentran en dispositivos distintos, PyTorch lanza un error.!)"
      ],
      "metadata": {
        "id": "gfF0Yzje88Qu"
      }
    },
    {
      "cell_type": "code",
      "execution_count": 57,
      "metadata": {
        "id": "W8a4FrFHHCB9",
        "colab": {
          "base_uri": "https://localhost:8080/",
          "height": 141
        },
        "outputId": "dec77ebb-791f-43ff-f644-5e6b04e2e755"
      },
      "outputs": [
        {
          "output_type": "error",
          "ename": "RuntimeError",
          "evalue": "Expected all tensors to be on the same device, but found at least two devices, cuda:0 and cpu!",
          "traceback": [
            "\u001b[0;31m---------------------------------------------------------------------------\u001b[0m",
            "\u001b[0;31mRuntimeError\u001b[0m                              Traceback (most recent call last)",
            "\u001b[0;32m/tmp/ipython-input-4250043851.py\u001b[0m in \u001b[0;36m<cell line: 0>\u001b[0;34m()\u001b[0m\n\u001b[0;32m----> 1\u001b[0;31m \u001b[0mxgpu\u001b[0m \u001b[0;34m+\u001b[0m \u001b[0mxcpu\u001b[0m\u001b[0;34m\u001b[0m\u001b[0;34m\u001b[0m\u001b[0m\n\u001b[0m",
            "\u001b[0;31mRuntimeError\u001b[0m: Expected all tensors to be on the same device, but found at least two devices, cuda:0 and cpu!"
          ]
        }
      ],
      "source": [
        "xgpu + xcpu"
      ]
    },
    {
      "cell_type": "markdown",
      "metadata": {
        "id": "vInzUPkzuX8v"
      },
      "source": [
        "Por lo tanto, para poder realizar esta operación es necesario transferir uno de los tensores a otro dispositivo. En PyTorch esto lo llevamos a cabo con el método `to`."
      ]
    },
    {
      "cell_type": "code",
      "execution_count": 58,
      "metadata": {
        "id": "1fR5FKJ-HT-E",
        "colab": {
          "base_uri": "https://localhost:8080/"
        },
        "outputId": "167bda25-2ae0-4bbb-8ffa-ef76152ed0f3"
      },
      "outputs": [
        {
          "output_type": "execute_result",
          "data": {
            "text/plain": [
              "(device(type='cuda', index=0), device(type='cuda', index=0))"
            ]
          },
          "metadata": {},
          "execution_count": 58
        }
      ],
      "source": [
        "xcpugpu = xcpu.to('cuda:0')\n",
        "(xcpugpu + xgpu).device, xcpugpu.device"
      ]
    },
    {
      "cell_type": "code",
      "source": [],
      "metadata": {
        "id": "nMvEf2PLVRSk"
      },
      "execution_count": 58,
      "outputs": []
    },
    {
      "cell_type": "markdown",
      "metadata": {
        "id": "zv3gcjM6utuE"
      },
      "source": [
        "Para saber si algún GPU está disponible, contamos con la función `is_available` del módulo de `cuda`."
      ]
    },
    {
      "cell_type": "code",
      "source": [
        "th.cuda.is_available()"
      ],
      "metadata": {
        "id": "ER54V0FH-hy4",
        "colab": {
          "base_uri": "https://localhost:8080/"
        },
        "outputId": "41a026ca-5fde-40de-f30c-ad3101a5783c"
      },
      "execution_count": 59,
      "outputs": [
        {
          "output_type": "execute_result",
          "data": {
            "text/plain": [
              "True"
            ]
          },
          "metadata": {},
          "execution_count": 59
        }
      ]
    },
    {
      "cell_type": "markdown",
      "source": [
        "Comparémos ahora los tiempos de ejecución en CPU y GPU de una multiplicación de dos matrices."
      ],
      "metadata": {
        "id": "VvLD_J9E-rP_"
      }
    },
    {
      "cell_type": "code",
      "execution_count": 60,
      "metadata": {
        "id": "b993S-xt7RRY",
        "colab": {
          "base_uri": "https://localhost:8080/"
        },
        "outputId": "1443e384-e6f7-4e73-8181-db15b7031dba"
      },
      "outputs": [
        {
          "output_type": "stream",
          "name": "stdout",
          "text": [
            "36.5 s ± 0 ns per loop (mean ± std. dev. of 1 run, 1 loop each)\n"
          ]
        }
      ],
      "source": [
        "%%timeit -n1 -r1\n",
        "disp = 'cpu'\n",
        "res = th.rand((10000, 10000), device = disp) @ th.rand((10000, 10000), device = disp)"
      ]
    },
    {
      "cell_type": "code",
      "source": [
        "%%timeit -n1 -r1\n",
        "disp = 'cuda:0'\n",
        "res = th.rand((10000, 10000), device = disp) @ th.rand((10000, 10000), device = disp)"
      ],
      "metadata": {
        "id": "JYlkqWe_XKYM",
        "colab": {
          "base_uri": "https://localhost:8080/"
        },
        "outputId": "2375b823-8d81-4efb-e5fa-e4eb5898989b"
      },
      "execution_count": 61,
      "outputs": [
        {
          "output_type": "stream",
          "name": "stdout",
          "text": [
            "156 ms ± 0 ns per loop (mean ± std. dev. of 1 run, 1 loop each)\n"
          ]
        }
      ]
    },
    {
      "cell_type": "markdown",
      "metadata": {
        "id": "A5pvTOxDCUHc"
      },
      "source": [
        "### Ejercicio\n",
        "Calcula y despliega el producto de cada matriz de $400 \\times 1000$ en un tensor aleatorio $A$ de tamaño $500 \\times 400 \\times 1000$ con la transpuesta de un tensor aleatorio $B$ de tamaño $200 \\times 1000$. Concatena el resultado a un tensor aleatorio $C$ con el mismo número de columnas que el resultado de la operación anterior. Compara los tiempos de ejecución de esta operación en GPU y CPU."
      ]
    }
  ]
}