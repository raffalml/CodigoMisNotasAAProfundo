{
  "nbformat": 4,
  "nbformat_minor": 0,
  "metadata": {
    "colab": {
      "provenance": [],
      "authorship_tag": "ABX9TyPTBjbyBe52gyoAt0MohQYq",
      "include_colab_link": true
    },
    "kernelspec": {
      "name": "python3",
      "display_name": "Python 3"
    },
    "language_info": {
      "name": "python"
    }
  },
  "cells": [
    {
      "cell_type": "markdown",
      "metadata": {
        "id": "view-in-github",
        "colab_type": "text"
      },
      "source": [
        "<a href=\"https://colab.research.google.com/github/gibranfp/CursoAprendizajeProfundo/blob/2026-1/notebooks/3a_celda_recurrente.ipynb\" target=\"_parent\"><img src=\"https://colab.research.google.com/assets/colab-badge.svg\" alt=\"Open In Colab\"/></a>"
      ]
    },
    {
      "cell_type": "code",
      "source": [
        "import numpy as np\n",
        "np.random.seed(123)\n",
        "from collections import Counter\n",
        "\n",
        "textos = ['ya casi termina el mes',\n",
        "          'ya hay pan de muerto']\n",
        "n_docs = len(textos)"
      ],
      "metadata": {
        "id": "VgQhSbaKPCP0"
      },
      "execution_count": 1,
      "outputs": []
    },
    {
      "cell_type": "code",
      "source": [
        "tokens = [t.split() for t in textos]\n",
        "max_sec = len(tokens[0])\n",
        "print(tokens[0])\n",
        "print(tokens[1])"
      ],
      "metadata": {
        "colab": {
          "base_uri": "https://localhost:8080/"
        },
        "id": "zIDBc1zUTRZj",
        "outputId": "6418adcf-19dd-470c-f18a-018cda182f73"
      },
      "execution_count": 2,
      "outputs": [
        {
          "output_type": "stream",
          "name": "stdout",
          "text": [
            "['ya', 'casi', 'termina', 'el', 'mes']\n",
            "['ya', 'hay', 'pan', 'de', 'muerto']\n"
          ]
        }
      ]
    },
    {
      "cell_type": "code",
      "source": [
        "voc = Counter([p for t in tokens for p in t])\n",
        "\n",
        "i2p = {i:p for i,(p,f) in enumerate(voc.most_common())}\n",
        "p2i = {p:i for i,(p,f) in enumerate(voc.most_common())}\n",
        "\n",
        "tam_voc = len(i2p)\n",
        "\n",
        "indsecs = np.array([[p2i[p] for p in t] for t in tokens])\n",
        "\n",
        "print(tam_voc)\n",
        "print(indsecs)"
      ],
      "metadata": {
        "id": "tsnqJFnzMDzI",
        "colab": {
          "base_uri": "https://localhost:8080/"
        },
        "outputId": "593a9add-6ca3-493f-8da4-b9ab3314bba9"
      },
      "execution_count": 3,
      "outputs": [
        {
          "output_type": "stream",
          "name": "stdout",
          "text": [
            "9\n",
            "[[0 1 2 3 4]\n",
            " [0 5 6 7 8]]\n"
          ]
        }
      ]
    },
    {
      "cell_type": "code",
      "source": [],
      "metadata": {
        "id": "zw_VpqMo5DxB"
      },
      "execution_count": 3,
      "outputs": []
    },
    {
      "cell_type": "code",
      "source": [
        "ohesecs = np.zeros((n_docs, max_sec, tam_voc))\n",
        "\n",
        "for i in range(ohesecs.shape[0]):\n",
        "  for j in range(ohesecs.shape[1]):\n",
        "    ohesecs[i, j, indsecs[i, j]] = 1\n",
        "\n",
        "print(ohesecs)"
      ],
      "metadata": {
        "id": "cFVSu-pXRTGY",
        "colab": {
          "base_uri": "https://localhost:8080/"
        },
        "outputId": "9c7b52a3-abbc-4f22-b484-ffd4b053a7e9"
      },
      "execution_count": 4,
      "outputs": [
        {
          "output_type": "stream",
          "name": "stdout",
          "text": [
            "[[[1. 0. 0. 0. 0. 0. 0. 0. 0.]\n",
            "  [0. 1. 0. 0. 0. 0. 0. 0. 0.]\n",
            "  [0. 0. 1. 0. 0. 0. 0. 0. 0.]\n",
            "  [0. 0. 0. 1. 0. 0. 0. 0. 0.]\n",
            "  [0. 0. 0. 0. 1. 0. 0. 0. 0.]]\n",
            "\n",
            " [[1. 0. 0. 0. 0. 0. 0. 0. 0.]\n",
            "  [0. 0. 0. 0. 0. 1. 0. 0. 0.]\n",
            "  [0. 0. 0. 0. 0. 0. 1. 0. 0.]\n",
            "  [0. 0. 0. 0. 0. 0. 0. 1. 0.]\n",
            "  [0. 0. 0. 0. 0. 0. 0. 0. 1.]]]\n"
          ]
        }
      ]
    },
    {
      "cell_type": "code",
      "source": [
        "tam_edo = 10\n",
        "\n",
        "h = np.zeros((tam_edo, 1))\n",
        "\n",
        "k = 1 / tam_edo\n",
        "Wih = np.random.uniform(-np.sqrt(k), np.sqrt(k), size=(tam_voc, tam_edo))\n",
        "Whh = np.random.uniform(-np.sqrt(k), np.sqrt(k), size=(tam_edo, tam_edo))\n",
        "b = np.random.uniform(-np.sqrt(k), np.sqrt(k), size=(tam_edo, 1))\n",
        "\n",
        "print(Wih)\n",
        "print(Whh)\n",
        "print(b)\n",
        "print(h)"
      ],
      "metadata": {
        "colab": {
          "base_uri": "https://localhost:8080/"
        },
        "id": "kQkoQln-OJv9",
        "outputId": "a133c2ec-e2f5-4071-a641-39b5aa6b2259"
      },
      "execution_count": 5,
      "outputs": [
        {
          "output_type": "stream",
          "name": "stdout",
          "text": [
            "[[ 0.12425802 -0.13525736 -0.17275431  0.03245431  0.13880436 -0.04863174\n",
            "   0.30406198  0.11689659 -0.01205972 -0.06823087]\n",
            " [-0.09918293  0.14486375 -0.03885032 -0.27848415 -0.06448247  0.15052151\n",
            "  -0.20080986 -0.20526233  0.01995484  0.02012953]\n",
            " [ 0.08500263  0.22100007  0.14195801  0.07021743  0.14068555 -0.11197061\n",
            "  -0.08741253 -0.17186142 -0.13046669  0.08283657]\n",
            " [-0.25797549 -0.04193106 -0.04372623 -0.00399389 -0.04690904 -0.11873643\n",
            "  -0.04657952  0.24880115  0.28091146  0.00116162]\n",
            " [ 0.07839473 -0.24310427 -0.11555881 -0.05386863  0.23167425 -0.15782588\n",
            "  -0.01073007  0.30709497  0.01232347  0.07140077]\n",
            " [-0.2399355   0.20639604  0.06518095  0.02850351 -0.09944488 -0.12388489\n",
            "  -0.05247976  0.11466467  0.23745976  0.00659166]\n",
            " [ 0.10708344  0.05435105  0.07899591  0.11048306  0.21651637 -0.26361064\n",
            "   0.16676767 -0.16211962 -0.19339038  0.0458258 ]\n",
            " [-0.25569386  0.24370208  0.08047932  0.14130091 -0.30602676  0.05972396\n",
            "   0.03591411 -0.21569286 -0.21941747  0.12366373]\n",
            " [-0.11462218  0.12141268  0.03439499 -0.07023382  0.26887739  0.21609108\n",
            "  -0.0901897  -0.2886581  -0.12347551 -0.06439303]]\n",
            "[[ 0.12962735  0.31329221 -0.09112744  0.16604982  0.05893026  0.12124286\n",
            "  -0.22064637 -0.06395625 -0.16389712 -0.09900711]\n",
            " [ 0.00830297  0.10538262 -0.24924536 -0.23344253 -0.11258935  0.10218226\n",
            "   0.21914978  0.0336829   0.22417544 -0.07283496]\n",
            " [-0.11587351 -0.09217111 -0.20802612  0.20814911 -0.10203352  0.03312174\n",
            "   0.04968031  0.0136187  -0.31452768  0.30885676]\n",
            " [ 0.25636052 -0.18490732 -0.13124122  0.01265553  0.25419107  0.30587503\n",
            "  -0.15334386  0.04070423  0.19414404 -0.06680624]\n",
            " [ 0.14614342 -0.21435878  0.06368737  0.231393    0.30580592 -0.26603243\n",
            "  -0.04531716 -0.1868635  -0.03122022  0.03020834]\n",
            " [-0.25720277 -0.12847653  0.27042802  0.04364179 -0.02693502  0.16034392\n",
            "   0.15296706 -0.28550369  0.13199182  0.21455633]\n",
            " [-0.21127943  0.1777187  -0.1350061  -0.12239928  0.10452053 -0.24577717\n",
            "   0.10427449  0.24530217  0.12415815 -0.03773996]\n",
            " [-0.03907665  0.16766149  0.04151565 -0.26252966  0.05228579  0.19912464\n",
            "  -0.10304827  0.27042317  0.15856735  0.04684208]\n",
            " [ 0.15915363 -0.26616957  0.22729761  0.20333705  0.2592256  -0.23487425\n",
            "  -0.2645055  -0.22868607 -0.06363849 -0.04787254]\n",
            " [ 0.03935036 -0.23891416 -0.18885154  0.19710119 -0.02024644  0.19475722\n",
            "  -0.31153091  0.0326301   0.27317788  0.05197232]]\n",
            "[[-0.18588138]\n",
            " [ 0.13772197]\n",
            " [-0.07653607]\n",
            " [ 0.10649536]\n",
            " [-0.29768435]\n",
            " [ 0.08595093]\n",
            " [-0.295864  ]\n",
            " [ 0.15481288]\n",
            " [-0.01713132]\n",
            " [-0.23922355]]\n",
            "[[0.]\n",
            " [0.]\n",
            " [0.]\n",
            " [0.]\n",
            " [0.]\n",
            " [0.]\n",
            " [0.]\n",
            " [0.]\n",
            " [0.]\n",
            " [0.]]\n"
          ]
        }
      ]
    },
    {
      "cell_type": "code",
      "source": [
        "print(h)\n",
        "\n",
        "x = ohesecs[0, 0].reshape(-1, 1)\n",
        "h = np.tanh(Wih.T @ x + Whh.T @ h + b)\n",
        "\n",
        "print(x)\n",
        "print(h)"
      ],
      "metadata": {
        "colab": {
          "base_uri": "https://localhost:8080/"
        },
        "id": "cKwLJXF5UPYM",
        "outputId": "49c826ce-f7e9-4035-ec46-3e00e45da0c3"
      },
      "execution_count": 6,
      "outputs": [
        {
          "output_type": "stream",
          "name": "stdout",
          "text": [
            "[[0.]\n",
            " [0.]\n",
            " [0.]\n",
            " [0.]\n",
            " [0.]\n",
            " [0.]\n",
            " [0.]\n",
            " [0.]\n",
            " [0.]\n",
            " [0.]]\n",
            "[[1.]\n",
            " [0.]\n",
            " [0.]\n",
            " [0.]\n",
            " [0.]\n",
            " [0.]\n",
            " [0.]\n",
            " [0.]\n",
            " [0.]]\n",
            "[[-0.06154547]\n",
            " [ 0.00246461]\n",
            " [-0.24425149]\n",
            " [ 0.13806229]\n",
            " [-0.15755648]\n",
            " [ 0.03730187]\n",
            " [ 0.00819779]\n",
            " [ 0.26521478]\n",
            " [-0.02918276]\n",
            " [-0.29811952]]\n"
          ]
        }
      ]
    },
    {
      "cell_type": "code",
      "source": [
        "x = ohesecs[0, 1].reshape(-1, 1)\n",
        "h = np.tanh(Wih.T @ x + Whh.T @ h + b)\n",
        "\n",
        "print(h)"
      ],
      "metadata": {
        "colab": {
          "base_uri": "https://localhost:8080/"
        },
        "id": "fC2z3_UQOnAs",
        "outputId": "7b45f5c6-9976-411b-b574-cd21fd56a1bd"
      },
      "execution_count": 7,
      "outputs": [
        {
          "output_type": "stream",
          "name": "stdout",
          "text": [
            "[[-0.28251876]\n",
            " [ 0.39224025]\n",
            " [-0.01807492]\n",
            " [-0.38168506]\n",
            " [-0.32930351]\n",
            " [ 0.30124444]\n",
            " [-0.40439839]\n",
            " [ 0.045301  ]\n",
            " [ 0.09017754]\n",
            " [-0.2881811 ]]\n"
          ]
        }
      ]
    },
    {
      "cell_type": "code",
      "source": [
        "x = ohesecs[0, 2].reshape(-1, 1)\n",
        "h = np.tanh(Wih.T @ x + Whh.T @ h + b)\n",
        "\n",
        "print(h)"
      ],
      "metadata": {
        "colab": {
          "base_uri": "https://localhost:8080/"
        },
        "id": "iMYjdqocXDT6",
        "outputId": "f3c7629f-8352-4656-8ae3-abc773576e1b"
      },
      "execution_count": 8,
      "outputs": [
        {
          "output_type": "stream",
          "name": "stdout",
          "text": [
            "[[-0.26262172]\n",
            " [ 0.37673501]\n",
            " [ 0.23468891]\n",
            " [-0.03425512]\n",
            " [-0.40740165]\n",
            " [ 0.02946663]\n",
            " [-0.09695202]\n",
            " [-0.14203018]\n",
            " [-0.15789488]\n",
            " [-0.08409326]]\n"
          ]
        }
      ]
    },
    {
      "cell_type": "code",
      "source": [
        "x = ohesecs[0, 3].reshape(-1, 1)\n",
        "h = np.tanh(Wih.T @ x +  Whh.T @ h + b)\n",
        "\n",
        "print(h)"
      ],
      "metadata": {
        "colab": {
          "base_uri": "https://localhost:8080/"
        },
        "id": "lQJ4v-NVXqUN",
        "outputId": "bdd1eb86-01dc-4d7c-d40d-7a47dd5218c8"
      },
      "execution_count": 9,
      "outputs": [
        {
          "output_type": "stream",
          "name": "stdout",
          "text": [
            "[[-0.52286184]\n",
            " [ 0.14157893]\n",
            " [-0.25929135]\n",
            " [-0.07301653]\n",
            " [-0.54924991]\n",
            " [ 0.1001888 ]\n",
            " [-0.08932687]\n",
            " [ 0.44125724]\n",
            " [ 0.27284658]\n",
            " [-0.16888303]]\n"
          ]
        }
      ]
    },
    {
      "cell_type": "code",
      "source": [
        "x = ohesecs[0, 4].reshape(-1, 1)\n",
        "h = np.tanh(Wih.T @ ohesecs[0, 4].reshape(-1, 1) + Whh.T @ h + b)\n",
        "\n",
        "print(h)"
      ],
      "metadata": {
        "colab": {
          "base_uri": "https://localhost:8080/"
        },
        "id": "S-crtS0PXsCh",
        "outputId": "0b7f2b55-6308-4a97-c98b-99d474735ebf"
      },
      "execution_count": 10,
      "outputs": [
        {
          "output_type": "stream",
          "name": "stdout",
          "text": [
            "[[-2.26399327e-01]\n",
            " [-8.59612329e-02]\n",
            " [ 1.89970050e-04]\n",
            " [-3.16342120e-01]\n",
            " [-1.85474053e-01]\n",
            " [ 2.32991250e-02]\n",
            " [-1.93538688e-01]\n",
            " [ 5.35019425e-01]\n",
            " [ 2.02901022e-01]\n",
            " [-1.92052934e-01]]\n"
          ]
        }
      ]
    },
    {
      "cell_type": "code",
      "source": [
        "class CeldaRecurrente:\n",
        "  def __init__(self, tam_ent, tam_edo):\n",
        "    self.input_size = tam_ent\n",
        "    self.hidden_size = tam_edo\n",
        "\n",
        "    k = 1 / tam_edo\n",
        "    self.W = np.random.uniform(-np.sqrt(k), np.sqrt(k),\n",
        "                               size=(tam_edo + tam_voc, tam_edo))\n",
        "    self.b = np.random.uniform(-np.sqrt(k), np.sqrt(k),\n",
        "                               size=(tam_edo, 1))\n",
        "\n",
        "  def __call__(self, x, h):\n",
        "    xh = np.concatenate((x.reshape(-1, 1), h), axis=0)\n",
        "    return np.tanh(self.W.T @ xh + self.b)"
      ],
      "metadata": {
        "id": "QbZ2A7KTMKkS"
      },
      "execution_count": 11,
      "outputs": []
    },
    {
      "cell_type": "code",
      "source": [
        "def ejecuta_celda(celda, X, h0):\n",
        "  # Calculamos los estados para todas las entradas\n",
        "  # del primer ejemplo\n",
        "  for i in range(X.shape[0]):\n",
        "    print(f'Ejemplo {i}')\n",
        "    h = h0 # primer estado con ceros\n",
        "    print(f'\\tEstado 0: {h.reshape(-1)}')\n",
        "    for t in range(X.shape[1]):\n",
        "      print(f'\\tEntrada {t}: {X[i, t]}')\n",
        "      h = celda(X[i, t], h)\n",
        "      print(f'\\tEstado {t + 1}: {h.reshape(-1)}')\n",
        "\n",
        "rec = CeldaRecurrente(tam_voc, tam_edo)\n",
        "ejecuta_celda(rec, ohesecs, np.zeros((tam_edo, 1)))"
      ],
      "metadata": {
        "colab": {
          "base_uri": "https://localhost:8080/"
        },
        "id": "lsVIunmeMn5f",
        "outputId": "aae7c0f0-fb79-4025-cd36-21409ec35050"
      },
      "execution_count": 12,
      "outputs": [
        {
          "output_type": "stream",
          "name": "stdout",
          "text": [
            "Ejemplo 0\n",
            "\tEstado 0: [0. 0. 0. 0. 0. 0. 0. 0. 0. 0.]\n",
            "\tEntrada 0: [1. 0. 0. 0. 0. 0. 0. 0. 0.]\n",
            "\tEstado 1: [-0.22980248 -0.35477119  0.36100229  0.2987813   0.02502332 -0.04159293\n",
            " -0.40892099  0.07639954 -0.07625024 -0.06640506]\n",
            "\tEntrada 1: [0. 1. 0. 0. 0. 0. 0. 0. 0.]\n",
            "\tEstado 2: [-0.10688934 -0.3065553   0.41428777  0.16063938 -0.11324161 -0.07182619\n",
            " -0.31246449  0.04248702 -0.05453518  0.20992951]\n",
            "\tEntrada 2: [0. 0. 1. 0. 0. 0. 0. 0. 0.]\n",
            "\tEstado 3: [-0.34102884  0.09514627  0.25391891  0.29088904  0.24073893 -0.29534944\n",
            " -0.11941504  0.18016119 -0.3193917   0.00126602]\n",
            "\tEntrada 3: [0. 0. 0. 1. 0. 0. 0. 0. 0.]\n",
            "\tEstado 4: [-0.58108759 -0.46051105  0.28022796 -0.03755576  0.03858157 -0.25651351\n",
            " -0.39273831  0.38844776 -0.28836536  0.31325888]\n",
            "\tEntrada 4: [0. 0. 0. 0. 1. 0. 0. 0. 0.]\n",
            "\tEstado 5: [-0.53245826 -0.42190573  0.72120953 -0.139595   -0.12830557 -0.15437957\n",
            "  0.10778412 -0.05507797  0.05366813  0.39281483]\n",
            "Ejemplo 1\n",
            "\tEstado 0: [0. 0. 0. 0. 0. 0. 0. 0. 0. 0.]\n",
            "\tEntrada 0: [1. 0. 0. 0. 0. 0. 0. 0. 0.]\n",
            "\tEstado 1: [-0.22980248 -0.35477119  0.36100229  0.2987813   0.02502332 -0.04159293\n",
            " -0.40892099  0.07639954 -0.07625024 -0.06640506]\n",
            "\tEntrada 1: [0. 0. 0. 0. 0. 1. 0. 0. 0.]\n",
            "\tEstado 2: [-0.44358523 -0.34907831  0.55392077 -0.07666416 -0.24794804  0.2314484\n",
            " -0.02656947  0.36847518 -0.51784214  0.25774866]\n",
            "\tEntrada 2: [0. 0. 0. 0. 0. 0. 1. 0. 0.]\n",
            "\tEstado 3: [-0.19629521 -0.46399121  0.64538869 -0.32977618 -0.17160342 -0.22532433\n",
            " -0.50462877 -0.21677849 -0.14862048  0.42813897]\n",
            "\tEntrada 3: [0. 0. 0. 0. 0. 0. 0. 1. 0.]\n",
            "\tEstado 4: [-0.34302006 -0.30638455  0.03759053  0.12505769  0.2931658  -0.22998829\n",
            "  0.0418847   0.10943206 -0.00444107 -0.20705019]\n",
            "\tEntrada 4: [0. 0. 0. 0. 0. 0. 0. 0. 1.]\n",
            "\tEstado 5: [ 0.05618343 -0.520919    0.2288413   0.10613007 -0.36985176 -0.05414115\n",
            "  0.06214017  0.14998086 -0.11052208  0.50406727]\n"
          ]
        }
      ]
    },
    {
      "cell_type": "code",
      "source": [
        "class CeldaRecurrenteSep:\n",
        "  def __init__(self, tam_ent, tam_edo):\n",
        "    self.input_size = tam_ent\n",
        "    self.hidden_size = tam_edo\n",
        "\n",
        "    k = 1 / tam_edo\n",
        "    self.Wih = np.random.uniform(-np.sqrt(k), np.sqrt(k),\n",
        "                                 size=(tam_voc, tam_edo))\n",
        "    self.Whh = np.random.uniform(-np.sqrt(k), np.sqrt(k),\n",
        "                                 size=(tam_edo, tam_edo))\n",
        "    self.b = np.random.uniform(-np.sqrt(k), np.sqrt(k),\n",
        "                               size=(tam_edo, 1))\n",
        "\n",
        "  def __call__(self, x, h):\n",
        "    x = x.reshape(-1, 1)\n",
        "    return np.tanh(self.Wih.T @ x + self.Whh @ h + self.b)\n",
        "\n",
        "recsep = CeldaRecurrenteSep(tam_voc, tam_edo)\n",
        "ejecuta_celda(recsep, ohesecs, np.zeros((tam_edo, 1)))"
      ],
      "metadata": {
        "id": "lDk0Dc10OZV6",
        "colab": {
          "base_uri": "https://localhost:8080/"
        },
        "outputId": "0d293b34-9950-434d-e48e-380642eeaf05"
      },
      "execution_count": 13,
      "outputs": [
        {
          "output_type": "stream",
          "name": "stdout",
          "text": [
            "Ejemplo 0\n",
            "\tEstado 0: [0. 0. 0. 0. 0. 0. 0. 0. 0. 0.]\n",
            "\tEntrada 0: [1. 0. 0. 0. 0. 0. 0. 0. 0.]\n",
            "\tEstado 1: [-0.04965837 -0.17845274  0.20916877 -0.34220176  0.26863095 -0.31200335\n",
            "  0.23013283  0.02105898 -0.32218725 -0.52938904]\n",
            "\tEntrada 1: [0. 1. 0. 0. 0. 0. 0. 0. 0.]\n",
            "\tEstado 2: [-0.41442375 -0.03518597  0.24433459 -0.13605271 -0.09972991 -0.1980722\n",
            " -0.1699397  -0.17288954 -0.65192553 -0.1436782 ]\n",
            "\tEntrada 2: [0. 0. 1. 0. 0. 0. 0. 0. 0.]\n",
            "\tEstado 3: [-7.31805616e-02 -1.72479804e-01  2.15804450e-01  2.67634476e-02\n",
            " -3.19360090e-04  2.66969216e-01  4.36093580e-01 -7.53599456e-02\n",
            " -4.93048535e-01 -4.44544910e-01]\n",
            "\tEntrada 3: [0. 0. 0. 1. 0. 0. 0. 0. 0.]\n",
            "\tEstado 4: [-0.0592631  -0.36711581 -0.18995557 -0.4842966  -0.30367831 -0.22048798\n",
            "  0.45813414 -0.32575902 -0.35242498 -0.42336638]\n",
            "\tEntrada 4: [0. 0. 0. 0. 1. 0. 0. 0. 0.]\n",
            "\tEstado 5: [-0.14343842 -0.16706511  0.02660835 -0.33119703 -0.45381393  0.17178328\n",
            "  0.33346002 -0.24261742 -0.5572012  -0.70962069]\n",
            "Ejemplo 1\n",
            "\tEstado 0: [0. 0. 0. 0. 0. 0. 0. 0. 0. 0.]\n",
            "\tEntrada 0: [1. 0. 0. 0. 0. 0. 0. 0. 0.]\n",
            "\tEstado 1: [-0.04965837 -0.17845274  0.20916877 -0.34220176  0.26863095 -0.31200335\n",
            "  0.23013283  0.02105898 -0.32218725 -0.52938904]\n",
            "\tEntrada 1: [0. 0. 0. 0. 0. 1. 0. 0. 0.]\n",
            "\tEstado 2: [-0.38641798  0.27661024 -0.08991393 -0.10860773  0.25726088 -0.40760804\n",
            " -0.28549134 -0.25781658 -0.50710038 -0.10557901]\n",
            "\tEntrada 2: [0. 0. 0. 0. 0. 0. 1. 0. 0.]\n",
            "\tEstado 3: [-0.30994761 -0.0877994  -0.13206598 -0.04992139  0.34807041 -0.23577722\n",
            "  0.14718399 -0.22587833 -0.70953118 -0.25138487]\n",
            "\tEntrada 3: [0. 0. 0. 0. 0. 0. 0. 1. 0.]\n",
            "\tEstado 4: [-0.43673803  0.05126685 -0.32069603 -0.53138104  0.27484631 -0.34714646\n",
            "  0.11315425 -0.31887638 -0.42158227 -0.58176324]\n",
            "\tEntrada 4: [0. 0. 0. 0. 0. 0. 0. 0. 1.]\n",
            "\tEstado 5: [-0.53845987  0.16639292 -0.11061354 -0.19858891 -0.10537319 -0.29776132\n",
            " -0.09009324 -0.19488531 -0.55435217 -0.5953497 ]\n"
          ]
        }
      ]
    },
    {
      "cell_type": "code",
      "source": [
        "import torch as th\n",
        "\n",
        "recth = th.nn.RNNCell(tam_voc, tam_edo)\n",
        "oheth = th.from_numpy(ohesecs).type(th.float32)\n",
        "\n",
        "ejecuta_celda(recth, oheth, th.zeros((tam_edo)))"
      ],
      "metadata": {
        "id": "WVvddTPeZMH3",
        "colab": {
          "base_uri": "https://localhost:8080/"
        },
        "outputId": "17e4b90f-4678-48c6-cdc7-0c8422d93636"
      },
      "execution_count": 14,
      "outputs": [
        {
          "output_type": "stream",
          "name": "stdout",
          "text": [
            "Ejemplo 0\n",
            "\tEstado 0: tensor([0., 0., 0., 0., 0., 0., 0., 0., 0., 0.])\n",
            "\tEntrada 0: tensor([1., 0., 0., 0., 0., 0., 0., 0., 0.])\n",
            "\tEstado 1: tensor([-0.4274, -0.2229,  0.0142,  0.1874,  0.0408, -0.1061,  0.5410,  0.5143,\n",
            "         0.1529,  0.0056], grad_fn=<ViewBackward0>)\n",
            "\tEntrada 1: tensor([0., 1., 0., 0., 0., 0., 0., 0., 0.])\n",
            "\tEstado 2: tensor([-0.6255,  0.3047,  0.0506, -0.2944, -0.0412, -0.0972,  0.1289,  0.5895,\n",
            "         0.0331, -0.3412], grad_fn=<ViewBackward0>)\n",
            "\tEntrada 2: tensor([0., 0., 1., 0., 0., 0., 0., 0., 0.])\n",
            "\tEstado 3: tensor([-0.6903, -0.0709,  0.3260,  0.3120, -0.4266, -0.2746,  0.3965,  0.3378,\n",
            "         0.3503,  0.0244], grad_fn=<ViewBackward0>)\n",
            "\tEntrada 3: tensor([0., 0., 0., 1., 0., 0., 0., 0., 0.])\n",
            "\tEstado 4: tensor([-0.5659,  0.3729,  0.1600, -0.0055, -0.3031, -0.0401,  0.6338,  0.3734,\n",
            "         0.0674, -0.2987], grad_fn=<ViewBackward0>)\n",
            "\tEntrada 4: tensor([0., 0., 0., 0., 1., 0., 0., 0., 0.])\n",
            "\tEstado 5: tensor([-0.3879,  0.2766,  0.3993,  0.2409, -0.3787,  0.1628,  0.5778,  0.5139,\n",
            "         0.0157, -0.2910], grad_fn=<ViewBackward0>)\n",
            "Ejemplo 1\n",
            "\tEstado 0: tensor([0., 0., 0., 0., 0., 0., 0., 0., 0., 0.])\n",
            "\tEntrada 0: tensor([1., 0., 0., 0., 0., 0., 0., 0., 0.])\n",
            "\tEstado 1: tensor([-0.4274, -0.2229,  0.0142,  0.1874,  0.0408, -0.1061,  0.5410,  0.5143,\n",
            "         0.1529,  0.0056], grad_fn=<ViewBackward0>)\n",
            "\tEntrada 1: tensor([0., 0., 0., 0., 0., 1., 0., 0., 0.])\n",
            "\tEstado 2: tensor([-0.5302,  0.1124,  0.3232, -0.0228,  0.2730,  0.1873, -0.0406,  0.6539,\n",
            "         0.0355, -0.2553], grad_fn=<ViewBackward0>)\n",
            "\tEntrada 2: tensor([0., 0., 0., 0., 0., 0., 1., 0., 0.])\n",
            "\tEstado 3: tensor([-0.5372,  0.0776, -0.1880,  0.3243, -0.5689, -0.0384,  0.4079,  0.5792,\n",
            "         0.3310, -0.4214], grad_fn=<ViewBackward0>)\n",
            "\tEntrada 3: tensor([0., 0., 0., 0., 0., 0., 0., 1., 0.])\n",
            "\tEstado 4: tensor([-0.7924,  0.4438,  0.1918,  0.2411,  0.1254,  0.2481,  0.4687,  0.6205,\n",
            "        -0.1031,  0.0425], grad_fn=<ViewBackward0>)\n",
            "\tEntrada 4: tensor([0., 0., 0., 0., 0., 0., 0., 0., 1.])\n",
            "\tEstado 5: tensor([-0.8046,  0.2251,  0.0516,  0.2768, -0.0079,  0.0222,  0.4354,  0.6059,\n",
            "         0.2825, -0.1604], grad_fn=<ViewBackward0>)\n"
          ]
        }
      ]
    },
    {
      "cell_type": "code",
      "source": [
        "rnn = th.nn.RNN(tam_voc, tam_edo) # Interfaz de más alto nivel que RNNCell.\n",
        "                                  # puede procesar varios pasos y ejemplos\n",
        "                                  # a la vez. Además, se pueden definir celdas\n",
        "                                  # apiladas y bidireccionales\n",
        "outputs, h = rnn(oheth)"
      ],
      "metadata": {
        "id": "17q_DcIV79id"
      },
      "execution_count": 15,
      "outputs": []
    },
    {
      "cell_type": "code",
      "source": [
        "lstm = th.nn.LSTM(tam_voc, tam_edo, batch_first=True) # Similar a la anterior\n",
        "                                                      # para celda LSTM\n",
        "output, (h,c) = lstm(oheth)"
      ],
      "metadata": {
        "id": "k-UJVlCH8Hbg"
      },
      "execution_count": 16,
      "outputs": []
    },
    {
      "cell_type": "code",
      "source": [
        "gru = th.nn.GRU(tam_voc, tam_edo, batch_first=True) # Similar a la anterior\n",
        "                                                    # para celda GRU\n",
        "output, h = gru(oheth)"
      ],
      "metadata": {
        "id": "t-_nWJ3d8iVx"
      },
      "execution_count": 17,
      "outputs": []
    },
    {
      "cell_type": "code",
      "source": [
        "outputs"
      ],
      "metadata": {
        "colab": {
          "base_uri": "https://localhost:8080/"
        },
        "id": "ZV4uHkfbpfQ5",
        "outputId": "718af6a8-f093-41cf-b401-df80106f6396"
      },
      "execution_count": 18,
      "outputs": [
        {
          "output_type": "execute_result",
          "data": {
            "text/plain": [
              "tensor([[[ 3.5648e-01,  9.8299e-02, -1.8170e-01,  4.0193e-01, -2.7771e-01,\n",
              "           2.8259e-01,  2.1574e-01, -2.5180e-01,  4.2298e-01,  3.2511e-01],\n",
              "         [ 3.0244e-01,  3.8079e-01, -4.6111e-01,  3.0158e-01, -2.1777e-01,\n",
              "          -1.3020e-01,  1.3940e-01, -9.0547e-02,  1.4396e-01, -1.6936e-01],\n",
              "         [ 2.8661e-01,  4.0837e-01, -6.2895e-01,  1.8743e-01,  3.0115e-05,\n",
              "          -8.6065e-02,  1.4770e-01,  9.4007e-02,  4.2768e-01,  2.0527e-01],\n",
              "         [ 1.6595e-01,  4.1689e-01, -4.7317e-01,  1.8047e-01,  8.4342e-02,\n",
              "           3.0388e-01,  2.7167e-02,  3.3396e-01,  2.2793e-01,  2.5023e-01],\n",
              "         [ 3.0759e-01,  1.6118e-01, -5.7096e-01,  4.1849e-01, -1.6899e-01,\n",
              "           2.9504e-01,  3.4513e-02, -6.0280e-02,  5.7209e-01,  3.6703e-01]],\n",
              "\n",
              "        [[ 2.9808e-01,  1.3058e-01, -1.9681e-01,  5.7934e-01, -2.1289e-01,\n",
              "           3.0763e-01,  1.0848e-01, -4.0973e-01,  1.7761e-01,  2.5220e-01],\n",
              "         [-2.3995e-01,  1.8160e-01, -2.4028e-01,  4.9986e-01,  2.6868e-01,\n",
              "           2.2228e-01,  3.7020e-01, -1.0094e-02,  1.1048e-01, -2.2083e-01],\n",
              "         [ 1.7158e-01,  2.7978e-01, -4.5603e-01,  2.0794e-01,  8.2931e-02,\n",
              "          -3.4247e-02,  1.3574e-03, -3.3199e-01,  3.6895e-01,  1.8708e-01],\n",
              "         [-1.5803e-01, -1.5317e-02, -5.1866e-01,  1.3267e-01,  2.0805e-01,\n",
              "          -1.3273e-02,  2.5852e-01, -1.3818e-01,  2.1844e-01, -1.0171e-01],\n",
              "         [ 2.0155e-01,  3.0327e-01, -4.3197e-01,  3.5850e-01, -3.1549e-02,\n",
              "           4.2431e-01, -1.6183e-01, -3.2479e-02, -1.4802e-01,  2.4909e-01]]],\n",
              "       grad_fn=<StackBackward0>)"
            ]
          },
          "metadata": {},
          "execution_count": 18
        }
      ]
    }
  ]
}